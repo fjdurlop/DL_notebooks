{
 "cells": [
  {
   "cell_type": "markdown",
   "metadata": {
    "id": "uJEkNkOHWrQN"
   },
   "source": [
    "# Steps for building a CNN \n",
    "#### fjdurlop\n"
   ]
  },
  {
   "cell_type": "markdown",
   "metadata": {
    "id": "ga0itVA4j5s8"
   },
   "source": [
    "## Index\n"
   ]
  },
  {
   "cell_type": "markdown",
   "metadata": {
    "id": "BmSfaxqSkBhM"
   },
   "source": [
    "\n",
    "1. Reading data\n",
    "1. Preprocessing data\n",
    "    1. Normalize images\n",
    "        - Resize\n",
    "        - Center \n",
    "        - Normalize\n",
    "    2. Create Dataset and DataLoader\n",
    "2. Processing data\n",
    "    1. Split data\n",
    "        - Training set\n",
    "        - Validation set\n",
    "    2. Training\n",
    "        1. Training loop\n",
    "        2. Get weights\n",
    "    3. Validation\n",
    "        1. Performance\n"
   ]
  },
  {
   "cell_type": "markdown",
   "metadata": {
    "id": "9tP_JMqgga8k"
   },
   "source": [
    "## Reading data\n",
    "    "
   ]
  },
  {
   "cell_type": "code",
   "execution_count": 1,
   "metadata": {
    "id": "zCwF1oY6pjoA"
   },
   "outputs": [],
   "source": [
    "\n",
    "import numpy as np # linear algebra\n",
    "import pandas as pd # data processing, CSV file I/O (e.g. pd.read_csv)\n",
    "\n",
    "import torch\n",
    "import torchvision\n",
    "import torch.nn as nn\n",
    "import torch.nn.functional as F\n",
    "import torch.optim as optim\n",
    "from torchvision import transforms\n",
    "\n",
    "import matplotlib.pyplot as plt\n",
    "import csv\n",
    "\n",
    "#import cv2\n",
    "\n",
    "from PIL import Image\n",
    "from PIL import ImageFilter\n",
    "\n",
    "import os\n",
    "import shutil\n"
   ]
  },
  {
   "cell_type": "code",
   "execution_count": 2,
   "metadata": {},
   "outputs": [],
   "source": [
    "\n",
    "os.environ[\"KMP_DUPLICATE_LIB_OK\"]=\"TRUE\"\n"
   ]
  },
  {
   "cell_type": "code",
   "execution_count": null,
   "metadata": {
    "colab": {
     "base_uri": "https://localhost:8080/"
    },
    "id": "S5XAiRRMg5yH",
    "outputId": "c5ecd50f-0e7e-47fc-bb73-eb9e6a5a9f97"
   },
   "outputs": [],
   "source": [
    "### Reading data\n"
   ]
  },
  {
   "cell_type": "code",
   "execution_count": null,
   "metadata": {},
   "outputs": [],
   "source": [
    "ls"
   ]
  },
  {
   "cell_type": "code",
   "execution_count": null,
   "metadata": {
    "colab": {
     "base_uri": "https://localhost:8080/"
    },
    "id": "yoB3lLbblN8e",
    "outputId": "cc7363e0-dae3-45ad-f610-7c931463ca81"
   },
   "outputs": [],
   "source": [
    "pwd"
   ]
  },
  {
   "cell_type": "markdown",
   "metadata": {
    "id": "m1aXt1j6W484"
   },
   "source": [
    "## Preprocessing data\n",
    "1. Normalize images\n",
    "    1. Convert images to tensors\n",
    "    1. Obtain mean and std\n",
    "    2. Preprocess with transforms\n",
    "        - Resize\n",
    "        - Center \n",
    "        - Normalize\n",
    "2. Create Dataset and DataLoader"
   ]
  },
  {
   "cell_type": "code",
   "execution_count": 18,
   "metadata": {
    "id": "_-njgXjvgJ7y"
   },
   "outputs": [],
   "source": [
    "### Converting images to tensors\n",
    "\n",
    "# Known sizes:\n",
    "\n",
    "# Training set: The mean of width = 50.836207 , height = 50.329193\n",
    "# Validation set: The mean of width = 50.527037 , height = 50.380346\n",
    "\n",
    "# Known means and stds\n",
    "# mean=[0.3418, 0.3126, 0.3224], std=[0.1627, 0.1632, 0.1731]\n",
    "\n",
    "size_imgs = 100\n",
    "\n",
    "preprocess_normalize = transforms.Compose([\n",
    "    transforms.Resize(size_imgs),\n",
    "    transforms.CenterCrop(size_imgs),\n",
    "    transforms.ToTensor(),\n",
    "    transforms.Normalize(mean=[0.3418, 0.3126, 0.3224], std=[0.1627, 0.1632, 0.1731])\n",
    "])\n",
    "\n",
    "trainset_t = torchvision.datasets.ImageFolder(\"C:/Users/Francisco Duran/Desktop/upc/project_notebooks/CNN-in-mobile-device/data/raw/TRAIN\",transform = preprocess_normalize)\n",
    "#C:\\Users\\Francisco Duran\\Desktop\\upc\\project_notebooks\n"
   ]
  },
  {
   "cell_type": "code",
   "execution_count": 22,
   "metadata": {},
   "outputs": [
    {
     "data": {
      "text/plain": [
       "100"
      ]
     },
     "execution_count": 22,
     "metadata": {},
     "output_type": "execute_result"
    }
   ],
   "source": [
    "len(trainset_t[0][0][0])"
   ]
  },
  {
   "cell_type": "code",
   "execution_count": 6,
   "metadata": {
    "colab": {
     "base_uri": "https://localhost:8080/",
     "height": 1000
    },
    "id": "dk8pRKIy8RLr",
    "outputId": "ba38b53a-009e-4047-b4c9-88807e4bdc6a"
   },
   "outputs": [
    {
     "data": {
      "text/plain": [
       "'\\nimg,label = trainset_t[0]\\nimg, label\\nplt.imshow(img)\\n'"
      ]
     },
     "execution_count": 6,
     "metadata": {},
     "output_type": "execute_result"
    }
   ],
   "source": [
    "'''\n",
    "img,label = trainset_t[0]\n",
    "img, label\n",
    "plt.imshow(img)\n",
    "'''"
   ]
  },
  {
   "cell_type": "code",
   "execution_count": 8,
   "metadata": {
    "colab": {
     "base_uri": "https://localhost:8080/"
    },
    "id": "9YsJMw5cs3c5",
    "outputId": "ff671443-fff8-4621-9a78-c7a8dc6df91b"
   },
   "outputs": [
    {
     "data": {
      "text/plain": [
       "(tensor([[[-1.8357, -1.8357, -1.8357,  ..., -0.4618, -0.4618, -0.4618],\n",
       "          [-1.6910, -1.6910, -1.6910,  ..., -0.4377, -0.4377, -0.4377],\n",
       "          [-1.5464, -1.5464, -1.5464,  ..., -0.4136, -0.4136, -0.4136],\n",
       "          ...,\n",
       "          [ 0.2613,  0.2613,  0.2613,  ...,  0.1408,  0.1408,  0.1408],\n",
       "          [ 0.2613,  0.2613,  0.2613,  ...,  0.1167,  0.1167,  0.1167],\n",
       "          [ 0.2613,  0.2613,  0.2613,  ...,  0.0685,  0.0685,  0.0685]],\n",
       " \n",
       "         [[-0.1132, -0.1132, -0.1132,  ..., -0.3295, -0.3295, -0.3295],\n",
       "          [-0.0892, -0.0892, -0.0892,  ..., -0.2815, -0.2815, -0.2815],\n",
       "          [-0.0652, -0.0652, -0.0652,  ..., -0.2574, -0.2574, -0.2574],\n",
       "          ...,\n",
       "          [ 0.1511,  0.1511,  0.1511,  ...,  0.2712,  0.2712,  0.2712],\n",
       "          [ 0.1511,  0.1511,  0.1511,  ...,  0.2712,  0.2712,  0.2712],\n",
       "          [ 0.1270,  0.1270,  0.1270,  ...,  0.2472,  0.2472,  0.2472]],\n",
       " \n",
       "         [[-0.0954, -0.0954, -0.0954,  ..., -0.3446, -0.3446, -0.3446],\n",
       "          [-0.0728, -0.0728, -0.0728,  ..., -0.2993, -0.2993, -0.2993],\n",
       "          [-0.0728, -0.0728, -0.0728,  ..., -0.2767, -0.2767, -0.2767],\n",
       "          ...,\n",
       "          [ 0.1085,  0.1085,  0.1085,  ...,  0.3803,  0.3803,  0.3803],\n",
       "          [ 0.0632,  0.0632,  0.0632,  ...,  0.3577,  0.3577,  0.3577],\n",
       "          [ 0.0405,  0.0405,  0.0405,  ...,  0.3350,  0.3350,  0.3350]]]),\n",
       " 0)"
      ]
     },
     "execution_count": 8,
     "metadata": {},
     "output_type": "execute_result"
    }
   ],
   "source": [
    "trainset_t[0]"
   ]
  },
  {
   "cell_type": "code",
   "execution_count": 23,
   "metadata": {
    "colab": {
     "base_uri": "https://localhost:8080/",
     "height": 302
    },
    "id": "Cn_ytm9JpqpW",
    "outputId": "5b7de003-84be-4e0c-8a49-d5c9e28f9000"
   },
   "outputs": [
    {
     "data": {
      "text/plain": [
       "39208"
      ]
     },
     "execution_count": 23,
     "metadata": {},
     "output_type": "execute_result"
    }
   ],
   "source": [
    "#len(trainset)\n",
    "#sizes = [list(n[0].size) for n in trainset]\n",
    "\n",
    "len(trainset_t)\n",
    "\n"
   ]
  },
  {
   "cell_type": "code",
   "execution_count": null,
   "metadata": {
    "id": "cGRR_5ZBqr_v"
   },
   "outputs": [],
   "source": [
    "np_sizes = np.array(sizes)"
   ]
  },
  {
   "cell_type": "code",
   "execution_count": null,
   "metadata": {
    "colab": {
     "base_uri": "https://localhost:8080/"
    },
    "id": "Bv4gn9Dtrdq7",
    "outputId": "37cf428a-edd0-47fe-c736-a4289c9ec65d"
   },
   "outputs": [],
   "source": [
    "print(np_sizes[:5])\n",
    "\n",
    "# Mean of sizes of training dataset\n",
    "mean_sizes_training = np_sizes.sum(0)/len(np_sizes)\n",
    "\n",
    "print('The mean of width = %f , height = %f'% (mean_sizes_training[0],mean_sizes_training[1]))"
   ]
  },
  {
   "cell_type": "code",
   "execution_count": null,
   "metadata": {
    "colab": {
     "base_uri": "https://localhost:8080/"
    },
    "id": "ac9ymsDCpcsd",
    "outputId": "1f734d5e-996d-4dc5-aea3-e4e6f154ba01"
   },
   "outputs": [],
   "source": [
    "testset = torchvision.datasets.ImageFolder(\"CNN-in-mobile-device/data/raw/TEST\")\n",
    "sizes = [list(n[0].size) for n in testset]\n",
    "np_sizes = np.array(sizes)\n",
    "\n",
    "# Mean of sizes of test dataset\n",
    "mean_sizes_test = np_sizes.sum(0)/len(np_sizes)\n",
    "\n",
    "print('The mean of width = %f , height = %f'% (mean_sizes_test[0],mean_sizes_test[1]))"
   ]
  },
  {
   "cell_type": "code",
   "execution_count": null,
   "metadata": {
    "id": "pBv1J-Sm-yEK"
   },
   "outputs": [],
   "source": [
    "### PREPROCESS IN PYTORCH\n",
    "trainloader = torch.utils.data.DataLoader(trainset_t)\n",
    "#train_loader = torch.utils.data.DataLoader(trainset, batch_size=64, shuffle=True, drop_last=False)\n",
    "len(trainset_t)/4\n",
    "\n",
    "#trainset_t_1 = trainset_t[:10]\n",
    "#trainset_t[:1001]\n",
    "\n",
    "nsamples = 10\n",
    "for i, image in enumerate(trainloader):\n",
    "    \n",
    "    if i > nsamples:\n",
    "        break"
   ]
  },
  {
   "cell_type": "code",
   "execution_count": null,
   "metadata": {
    "colab": {
     "base_uri": "https://localhost:8080/"
    },
    "id": "GXvLbrOof7-H",
    "outputId": "4c3c9b87-65b7-49f6-eb3e-02e54f7d44bd"
   },
   "outputs": [],
   "source": [
    "### Obtaining mean and std # 11:27\n",
    "from torchvision import transforms\n",
    "\n",
    "to_tensor = transforms.ToTensor()\n",
    "#img_t = to_tensor(img)\n",
    "#print(img_t.shape)\n",
    "\n",
    "img_t, _ = trainset_t[99]\n",
    "print(type(img_t))\n",
    "\n",
    "#dataset to tensor\n",
    "\n",
    "#trainset_t = torchvision.datasets.ImageFolder(\"CNN-in-mobile-device/data/raw/TRAIN\",transform=preprocess_no_normalize)\n",
    "#trainset_t = datasets.CIFAR10(data_path, train=True, download=False,\n",
    "#                          transform=transforms.ToTensor())\n",
    "\n",
    "imgs = torch.stack([img_t for img_t, _ in trainset_t, dim=3)\n",
    "print(imgs.shape)"
   ]
  },
  {
   "cell_type": "code",
   "execution_count": null,
   "metadata": {
    "id": "VSlbhNGOfqhZ"
   },
   "outputs": [],
   "source": [
    "# getting means\n",
    "imgs.view(3, -1).mean(dim=1)  \n",
    "# getting std\n",
    "imgs.view(3, -1).std(dim=1)"
   ]
  },
  {
   "cell_type": "code",
   "execution_count": null,
   "metadata": {},
   "outputs": [],
   "source": []
  },
  {
   "cell_type": "code",
   "execution_count": 24,
   "metadata": {
    "id": "CVEy42pAgOxq"
   },
   "outputs": [
    {
     "data": {
      "text/plain": [
       "'\\nDataLoader\\n    batch_size = how many samples per batch to load\\n    shuffle = set to ``True`` to have the data reshuffled at every epoch (default: ``False``).\\n    drop_last = set to ``True`` to drop the last incomplete batch,\\n\\n'"
      ]
     },
     "execution_count": 24,
     "metadata": {},
     "output_type": "execute_result"
    }
   ],
   "source": [
    "### Dataset and Dataloader training set\n",
    "\n",
    "\n",
    "#trainset = torchvision.datasets.ImageFolder(\"GTSRB/Training\", transform = preprocess)\n",
    "#trainset = torchvision.datasets.ImageFolder(\"CNN-in-mobile-device/data/raw/TRAIN\", transform = preprocess)\n",
    "\n",
    "train_loader = torch.utils.data.DataLoader(trainset_t, batch_size=64, shuffle=True, drop_last=False)\n",
    "\n",
    "'''\n",
    "DataLoader\n",
    "    batch_size = how many samples per batch to load\n",
    "    shuffle = set to ``True`` to have the data reshuffled at every epoch (default: ``False``).\n",
    "    drop_last = set to ``True`` to drop the last incomplete batch,\n",
    "\n",
    "'''"
   ]
  },
  {
   "cell_type": "code",
   "execution_count": 25,
   "metadata": {
    "id": "FBgwP0VahPOo"
   },
   "outputs": [],
   "source": [
    "### Dataset and Dataloader validation set\n",
    "testset = torchvision.datasets.ImageFolder(\"C:/Users/Francisco Duran/Desktop/upc/project_notebooks/CNN-in-mobile-device/data/raw/TEST\", transform = preprocess_normalize)\n",
    "test_loader = torch.utils.data.DataLoader(testset, batch_size=64, shuffle=True, drop_last=True)"
   ]
  },
  {
   "cell_type": "code",
   "execution_count": 27,
   "metadata": {},
   "outputs": [
    {
     "data": {
      "text/plain": [
       "100"
      ]
     },
     "execution_count": 27,
     "metadata": {},
     "output_type": "execute_result"
    }
   ],
   "source": [
    "len(testset[0][0][0])"
   ]
  },
  {
   "cell_type": "code",
   "execution_count": 28,
   "metadata": {
    "id": "OfF-tSjmhaWn"
   },
   "outputs": [
    {
     "name": "stdout",
     "output_type": "stream",
     "text": [
      "Shape of X [N, C, H, W]:  torch.Size([64, 3, 100, 100])\n",
      "Shape of y:  torch.Size([64]) torch.int64\n",
      "Shape of X [N, C, H, W]:  torch.Size([64, 3, 100, 100])\n",
      "Shape of y:  torch.Size([64]) torch.int64\n"
     ]
    }
   ],
   "source": [
    "# [Number of samples, Channels, Height, Width]\n",
    "\n",
    "for X, y in train_loader:\n",
    "    print(\"Shape of X [N, C, H, W]: \", X.shape)\n",
    "    print(\"Shape of y: \", y.shape, y.dtype)\n",
    "    break\n",
    "for X, y in test_loader:\n",
    "    print(\"Shape of X [N, C, H, W]: \", X.shape)\n",
    "    print(\"Shape of y: \", y.shape, y.dtype)\n",
    "    break"
   ]
  },
  {
   "cell_type": "markdown",
   "metadata": {
    "id": "OmZTXjenW5sF"
   },
   "source": [
    "## Processing data"
   ]
  },
  {
   "cell_type": "markdown",
   "metadata": {
    "id": "RcAV5sxihf9U"
   },
   "source": [
    "### Define model"
   ]
  },
  {
   "cell_type": "code",
   "execution_count": 30,
   "metadata": {
    "id": "K_xDzugGhl4W"
   },
   "outputs": [
    {
     "name": "stdout",
     "output_type": "stream",
     "text": [
      "Using cpu device\n",
      "NeuralNetwork(\n",
      "  (flatten): Flatten(start_dim=1, end_dim=-1)\n",
      "  (linear_relu_stack): Sequential(\n",
      "    (0): Linear(in_features=30000, out_features=3000, bias=True)\n",
      "    (1): ReLU()\n",
      "    (2): Linear(in_features=3000, out_features=500, bias=True)\n",
      "    (3): ReLU()\n",
      "    (4): Linear(in_features=500, out_features=100, bias=True)\n",
      "    (5): ReLU()\n",
      "    (6): Linear(in_features=100, out_features=43, bias=True)\n",
      "    (7): ReLU()\n",
      "  )\n",
      ")\n"
     ]
    }
   ],
   "source": [
    "# Get cpu or gpu device for training.\n",
    "device = \"cuda\" if torch.cuda.is_available() else \"cpu\"\n",
    "print(\"Using {} device\".format(device))\n",
    "\n",
    "n_out = 43\n",
    "\n",
    "# Define model\n",
    "class NeuralNetwork(nn.Module):\n",
    "    def __init__(self):\n",
    "        super(NeuralNetwork, self).__init__()\n",
    "        self.flatten = nn.Flatten()\n",
    "        self.linear_relu_stack = nn.Sequential(\n",
    "            nn.Linear(size_imgs*size_imgs*3, 3000), # 30000 to 3000\n",
    "            nn.ReLU(),\n",
    "            nn.Linear(3000, 500),\n",
    "            nn.ReLU(),\n",
    "            nn.Linear(500, 100),\n",
    "            nn.ReLU(),\n",
    "            nn.Linear(100, n_out),\n",
    "            nn.ReLU()\n",
    "        )\n",
    "\n",
    "    def forward(self, x):\n",
    "        x = self.flatten(x)\n",
    "        logits = self.linear_relu_stack(x)\n",
    "        return logits\n",
    "\n",
    "model = NeuralNetwork().to(device)\n",
    "print(model)"
   ]
  },
  {
   "cell_type": "code",
   "execution_count": 86,
   "metadata": {},
   "outputs": [
    {
     "data": {
      "text/plain": [
       "__main__.NeuralNetwork"
      ]
     },
     "execution_count": 86,
     "metadata": {},
     "output_type": "execute_result"
    }
   ],
   "source": [
    "type(model)"
   ]
  },
  {
   "cell_type": "code",
   "execution_count": 92,
   "metadata": {},
   "outputs": [],
   "source": [
    "import torch.nn.functional as F\n",
    "\n",
    "class Net(nn.Module):\n",
    "    def __init__(self):\n",
    "        super().__init__()\n",
    "        self.conv1 = nn.Conv2d(3, 16, kernel_size=3, padding=1) # 16C 100x100\n",
    "        self.conv2 = nn.Conv2d(16, 8, kernel_size=3, padding=1) # 8C 50x50\n",
    "        #self.conv3 = nn.Conv2d(8, 4, kernel_size=3, padding=1) # 4C 25x25\n",
    "        \n",
    "        self.fc1 = nn.Linear(8 * 5 * 5, 100)\n",
    "        self.fc2 = nn.Linear(100, 43)\n",
    "        \n",
    "    def forward(self, x):\n",
    "        out = F.max_pool2d(torch.tanh(self.conv1(x)), 2) # 16C 50x50\n",
    "        out = F.max_pool2d(torch.tanh(self.conv2(out)), 2) # 8C 25x25\n",
    "        out = F.max_pool2d(out,5) #8c 5x5\n",
    "        #out = F.max_pool2d(torch.tanh(self.conv3(out)), 5) # 4C 25x25\n",
    "        out = out.view(-1, 8 * 5 * 5)\n",
    "        out = torch.tanh(self.fc1(out))\n",
    "        out = self.fc2(out)\n",
    "        return out"
   ]
  },
  {
   "cell_type": "code",
   "execution_count": 93,
   "metadata": {},
   "outputs": [
    {
     "data": {
      "text/plain": [
       "__main__.Net"
      ]
     },
     "execution_count": 93,
     "metadata": {},
     "output_type": "execute_result"
    }
   ],
   "source": [
    "model_net = Net().to(device)\n",
    "type(model_net)"
   ]
  },
  {
   "cell_type": "markdown",
   "metadata": {
    "id": "Z7qD_LDLeL2t"
   },
   "source": [
    "### Training"
   ]
  },
  {
   "cell_type": "code",
   "execution_count": 31,
   "metadata": {
    "id": "3mHmrTUShrAt"
   },
   "outputs": [],
   "source": [
    "## To train a model, we need a loss function and an optimizer.\n",
    "loss_fn = nn.CrossEntropyLoss()\n",
    "optimizer = torch.optim.SGD(model.parameters(), lr=1e-3)"
   ]
  },
  {
   "cell_type": "code",
   "execution_count": 94,
   "metadata": {},
   "outputs": [],
   "source": [
    "## model net\n",
    "loss_fn = nn.CrossEntropyLoss()\n",
    "optimizer = optim.SGD(model_net.parameters(), lr=1e-2)"
   ]
  },
  {
   "cell_type": "code",
   "execution_count": 32,
   "metadata": {
    "id": "mtX5yW4Uhviq"
   },
   "outputs": [],
   "source": [
    "#In a single training loop, the model makes predictions on the training dataset \n",
    "#(fed to it in batches), and backpropagates the prediction\n",
    "# error to adjust the model’s parameters.\n",
    "\n",
    "def train(dataloader, model, loss_fn, optimizer):\n",
    "    size = len(dataloader.dataset)\n",
    "    for batch, (X, y) in enumerate(dataloader):\n",
    "        X, y = X.to(device), y.to(device)\n",
    "\n",
    "        # Compute prediction error\n",
    "        pred = model(X)\n",
    "        loss = loss_fn(pred, y)\n",
    "\n",
    "        # Backpropagation\n",
    "        optimizer.zero_grad()\n",
    "        loss.backward()\n",
    "        optimizer.step()\n",
    "\n",
    "        if batch % 100 == 0:\n",
    "            loss, current = loss.item(), batch * len(X)\n",
    "            print(f\"loss: {loss:>7f}  [{current:>5d}/{size:>5d}]\")"
   ]
  },
  {
   "cell_type": "code",
   "execution_count": 33,
   "metadata": {
    "id": "p3X3OiEmh32A"
   },
   "outputs": [],
   "source": [
    "# We also check the model’s performance against the test dataset to ensure it is learning.\n",
    "def test(dataloader, model):\n",
    "    size = len(dataloader.dataset)\n",
    "    model.eval()\n",
    "    test_loss, correct = 0, 0\n",
    "    with torch.no_grad():\n",
    "        for X, y in dataloader:\n",
    "            X, y = X.to(device), y.to(device)\n",
    "            pred = model(X)\n",
    "            test_loss += loss_fn(pred, y).item()\n",
    "            correct += (pred.argmax(1) == y).type(torch.float).sum().item()\n",
    "    test_loss /= size\n",
    "    correct /= size\n",
    "    print(f\"Test Error: \\n Accuracy: {(100*correct):>0.1f}%, Avg loss: {test_loss:>8f} \\n\")"
   ]
  },
  {
   "cell_type": "code",
   "execution_count": 74,
   "metadata": {
    "id": "U1UqgSsHh59A"
   },
   "outputs": [
    {
     "name": "stdout",
     "output_type": "stream",
     "text": [
      "Epoch 1\n",
      "-------------------------------\n",
      "loss: 2.728142  [    0/39208]\n",
      "loss: 2.825362  [ 6400/39208]\n",
      "loss: 2.910351  [12800/39208]\n",
      "loss: 2.868731  [19200/39208]\n",
      "loss: 2.614501  [25600/39208]\n",
      "loss: 2.627228  [32000/39208]\n",
      "loss: 2.417130  [38400/39208]\n",
      "Test Error: \n",
      " Accuracy: 34.2%, Avg loss: 0.043027 \n",
      "\n",
      "Epoch 2\n",
      "-------------------------------\n",
      "loss: 2.286211  [    0/39208]\n",
      "loss: 2.541658  [ 6400/39208]\n",
      "loss: 1.994970  [12800/39208]\n",
      "loss: 1.888117  [19200/39208]\n",
      "loss: 2.424429  [25600/39208]\n",
      "loss: 2.266176  [32000/39208]\n",
      "loss: 2.224140  [38400/39208]\n",
      "Test Error: \n",
      " Accuracy: 39.8%, Avg loss: 0.040102 \n",
      "\n",
      "Epoch 3\n",
      "-------------------------------\n",
      "loss: 2.596658  [    0/39208]\n",
      "loss: 2.238388  [ 6400/39208]\n",
      "loss: 2.122656  [12800/39208]\n",
      "loss: 2.190578  [19200/39208]\n",
      "loss: 2.207538  [25600/39208]\n",
      "loss: 2.061062  [32000/39208]\n",
      "loss: 2.317489  [38400/39208]\n",
      "Test Error: \n",
      " Accuracy: 44.7%, Avg loss: 0.037617 \n",
      "\n",
      "Epoch 4\n",
      "-------------------------------\n",
      "loss: 2.160736  [    0/39208]\n",
      "loss: 2.156793  [ 6400/39208]\n",
      "loss: 2.292071  [12800/39208]\n",
      "loss: 1.621086  [19200/39208]\n",
      "loss: 2.061415  [25600/39208]\n",
      "loss: 2.257997  [32000/39208]\n",
      "loss: 2.207274  [38400/39208]\n",
      "Test Error: \n",
      " Accuracy: 49.7%, Avg loss: 0.035312 \n",
      "\n",
      "Epoch 5\n",
      "-------------------------------\n",
      "loss: 1.923716  [    0/39208]\n",
      "loss: 2.040442  [ 6400/39208]\n",
      "loss: 2.399007  [12800/39208]\n",
      "loss: 1.815982  [19200/39208]\n",
      "loss: 2.077634  [25600/39208]\n",
      "loss: 2.220684  [32000/39208]\n",
      "loss: 2.178869  [38400/39208]\n",
      "Test Error: \n",
      " Accuracy: 52.8%, Avg loss: 0.033369 \n",
      "\n",
      "Epoch 6\n",
      "-------------------------------\n",
      "loss: 1.823465  [    0/39208]\n",
      "loss: 1.726399  [ 6400/39208]\n",
      "loss: 1.684467  [12800/39208]\n",
      "loss: 1.824716  [19200/39208]\n",
      "loss: 2.008231  [25600/39208]\n",
      "loss: 1.913720  [32000/39208]\n",
      "loss: 1.542435  [38400/39208]\n",
      "Test Error: \n",
      " Accuracy: 55.0%, Avg loss: 0.031968 \n",
      "\n",
      "Epoch 7\n",
      "-------------------------------\n",
      "loss: 1.750613  [    0/39208]\n",
      "loss: 1.654529  [ 6400/39208]\n",
      "loss: 1.823028  [12800/39208]\n",
      "loss: 1.895494  [19200/39208]\n",
      "loss: 1.282544  [25600/39208]\n",
      "loss: 1.826454  [32000/39208]\n",
      "loss: 1.778399  [38400/39208]\n",
      "Test Error: \n",
      " Accuracy: 57.1%, Avg loss: 0.030460 \n",
      "\n",
      "Epoch 8\n",
      "-------------------------------\n",
      "loss: 1.694904  [    0/39208]\n",
      "loss: 1.886873  [ 6400/39208]\n",
      "loss: 1.482019  [12800/39208]\n",
      "loss: 1.630388  [19200/39208]\n",
      "loss: 1.761961  [25600/39208]\n",
      "loss: 1.363073  [32000/39208]\n",
      "loss: 1.784536  [38400/39208]\n",
      "Test Error: \n",
      " Accuracy: 58.7%, Avg loss: 0.029320 \n",
      "\n",
      "Epoch 9\n",
      "-------------------------------\n",
      "loss: 1.477574  [    0/39208]\n",
      "loss: 1.816444  [ 6400/39208]\n",
      "loss: 1.438596  [12800/39208]\n",
      "loss: 1.197271  [19200/39208]\n",
      "loss: 1.373704  [25600/39208]\n",
      "loss: 1.302075  [32000/39208]\n",
      "loss: 1.241247  [38400/39208]\n",
      "Test Error: \n",
      " Accuracy: 59.5%, Avg loss: 0.028530 \n",
      "\n",
      "Epoch 10\n",
      "-------------------------------\n",
      "loss: 0.985373  [    0/39208]\n",
      "loss: 1.647681  [ 6400/39208]\n",
      "loss: 1.301189  [12800/39208]\n",
      "loss: 1.539245  [19200/39208]\n",
      "loss: 1.514294  [25600/39208]\n",
      "loss: 1.467697  [32000/39208]\n",
      "loss: 1.205759  [38400/39208]\n",
      "Test Error: \n",
      " Accuracy: 61.6%, Avg loss: 0.027505 \n",
      "\n",
      "Epoch 11\n",
      "-------------------------------\n",
      "loss: 1.301786  [    0/39208]\n",
      "loss: 1.495329  [ 6400/39208]\n",
      "loss: 1.274418  [12800/39208]\n",
      "loss: 1.650569  [19200/39208]\n",
      "loss: 1.060246  [25600/39208]\n",
      "loss: 1.537336  [32000/39208]\n",
      "loss: 1.703409  [38400/39208]\n",
      "Test Error: \n",
      " Accuracy: 61.7%, Avg loss: 0.026845 \n",
      "\n",
      "Epoch 12\n",
      "-------------------------------\n",
      "loss: 1.344921  [    0/39208]\n",
      "loss: 1.509278  [ 6400/39208]\n",
      "loss: 1.714373  [12800/39208]\n",
      "loss: 1.231916  [19200/39208]\n",
      "loss: 1.236443  [25600/39208]\n",
      "loss: 1.441036  [32000/39208]\n",
      "loss: 0.865479  [38400/39208]\n",
      "Test Error: \n",
      " Accuracy: 62.5%, Avg loss: 0.026209 \n",
      "\n",
      "Epoch 13\n",
      "-------------------------------\n",
      "loss: 1.351404  [    0/39208]\n",
      "loss: 1.634944  [ 6400/39208]\n",
      "loss: 1.466350  [12800/39208]\n",
      "loss: 1.265617  [19200/39208]\n",
      "loss: 1.700526  [25600/39208]\n",
      "loss: 1.102118  [32000/39208]\n",
      "loss: 1.421384  [38400/39208]\n",
      "Test Error: \n",
      " Accuracy: 63.2%, Avg loss: 0.025634 \n",
      "\n",
      "Epoch 14\n",
      "-------------------------------\n",
      "loss: 1.064451  [    0/39208]\n",
      "loss: 1.125919  [ 6400/39208]\n",
      "loss: 1.184925  [12800/39208]\n",
      "loss: 1.537600  [19200/39208]\n",
      "loss: 1.489853  [25600/39208]\n",
      "loss: 1.166934  [32000/39208]\n",
      "loss: 1.345288  [38400/39208]\n",
      "Test Error: \n",
      " Accuracy: 63.7%, Avg loss: 0.025429 \n",
      "\n",
      "Epoch 15\n",
      "-------------------------------\n",
      "loss: 1.015497  [    0/39208]\n",
      "loss: 1.322811  [ 6400/39208]\n",
      "loss: 1.697473  [12800/39208]\n",
      "loss: 0.918850  [19200/39208]\n",
      "loss: 1.093006  [25600/39208]\n",
      "loss: 1.359586  [32000/39208]\n",
      "loss: 1.318849  [38400/39208]\n",
      "Test Error: \n",
      " Accuracy: 64.1%, Avg loss: 0.024816 \n",
      "\n",
      "Done!\n"
     ]
    }
   ],
   "source": [
    "### Training loop ,10 or more epochs, 6min each epoch\n",
    "epochs = 15\n",
    "for t in range(epochs):\n",
    "    print(f\"Epoch {t+1}\\n-------------------------------\")\n",
    "    train(train_loader, model, loss_fn, optimizer)\n",
    "    test(test_loader, model)\n",
    "print(\"Done!\")"
   ]
  },
  {
   "cell_type": "code",
   "execution_count": 95,
   "metadata": {},
   "outputs": [
    {
     "name": "stdout",
     "output_type": "stream",
     "text": [
      "Epoch 1\n",
      "-------------------------------\n",
      "loss: 3.762616  [    0/39208]\n",
      "loss: 3.628248  [ 6400/39208]\n",
      "loss: 3.506183  [12800/39208]\n",
      "loss: 3.575256  [19200/39208]\n",
      "loss: 3.391321  [25600/39208]\n",
      "loss: 3.375191  [32000/39208]\n",
      "loss: 3.289528  [38400/39208]\n",
      "Test Error: \n",
      " Accuracy: 10.0%, Avg loss: 0.052262 \n",
      "\n",
      "Epoch 2\n",
      "-------------------------------\n",
      "loss: 3.429097  [    0/39208]\n",
      "loss: 3.363774  [ 6400/39208]\n",
      "loss: 3.093135  [12800/39208]\n",
      "loss: 3.323750  [19200/39208]\n",
      "loss: 3.140039  [25600/39208]\n",
      "loss: 3.137073  [32000/39208]\n",
      "loss: 3.137300  [38400/39208]\n",
      "Test Error: \n",
      " Accuracy: 16.4%, Avg loss: 0.048963 \n",
      "\n",
      "Epoch 3\n",
      "-------------------------------\n",
      "loss: 3.088589  [    0/39208]\n",
      "loss: 3.033043  [ 6400/39208]\n",
      "loss: 3.059039  [12800/39208]\n",
      "loss: 2.890378  [19200/39208]\n",
      "loss: 2.853657  [25600/39208]\n",
      "loss: 2.889650  [32000/39208]\n",
      "loss: 2.606228  [38400/39208]\n",
      "Test Error: \n",
      " Accuracy: 25.6%, Avg loss: 0.042982 \n",
      "\n",
      "Done!\n"
     ]
    }
   ],
   "source": [
    "### Training loop ,10 or more epochs, 6min each epoch\n",
    "epochs = 3\n",
    "for t in range(epochs):\n",
    "    print(f\"Epoch {t+1}\\n-------------------------------\")\n",
    "    train(train_loader, model_net, loss_fn, optimizer)\n",
    "    test(test_loader, model_net)\n",
    "print(\"Done!\")"
   ]
  },
  {
   "cell_type": "code",
   "execution_count": 96,
   "metadata": {
    "id": "qsTpStteh_PJ"
   },
   "outputs": [
    {
     "name": "stdout",
     "output_type": "stream",
     "text": [
      "Saved PyTorch Model State to model.pth\n"
     ]
    },
    {
     "data": {
      "text/plain": [
       "'\\nLoad model:\\nmodel = NeuralNetwork()\\nmodel.load_state_dict(torch.load(\"model.pth\"))\\n'"
      ]
     },
     "execution_count": 96,
     "metadata": {},
     "output_type": "execute_result"
    }
   ],
   "source": [
    "### Saving model\n",
    "# Saving model\n",
    "torch.save(model_net.state_dict(), \"../models/model_net_25.pth\")\n",
    "print(\"Saved PyTorch Model State to model.pth\")\n",
    "\n",
    "'''\n",
    "Load model:\n",
    "model = NeuralNetwork()\n",
    "model.load_state_dict(torch.load(\"model.pth\"))\n",
    "'''"
   ]
  },
  {
   "cell_type": "markdown",
   "metadata": {
    "id": "uXK46mCUW5OG"
   },
   "source": [
    "### Validation"
   ]
  },
  {
   "cell_type": "code",
   "execution_count": null,
   "metadata": {
    "id": "B5PjssXdZ37F"
   },
   "outputs": [],
   "source": []
  },
  {
   "cell_type": "code",
   "execution_count": null,
   "metadata": {
    "id": "W_p6VyAwWktY"
   },
   "outputs": [],
   "source": []
  },
  {
   "cell_type": "markdown",
   "metadata": {
    "id": "swacZZyOiRSf"
   },
   "source": [
    "## Making predictions"
   ]
  },
  {
   "cell_type": "code",
   "execution_count": 36,
   "metadata": {},
   "outputs": [
    {
     "name": "stdout",
     "output_type": "stream",
     "text": [
      "[0, 1, 2, 3, 4, 5, 6, 7, 8, 9, 10, 11, 12, 13, 14, 15, 16, 17, 18, 19, 20, 21, 22, 23, 24, 25, 26, 27, 28, 29, 30, 31, 32, 33, 34, 35, 36, 37, 38, 39, 40, 41, 42]\n"
     ]
    }
   ],
   "source": [
    "classes2 = list(range(43))\n",
    "print(classes2)"
   ]
  },
  {
   "cell_type": "code",
   "execution_count": 97,
   "metadata": {},
   "outputs": [
    {
     "data": {
      "text/plain": [
       "Net(\n",
       "  (conv1): Conv2d(3, 16, kernel_size=(3, 3), stride=(1, 1), padding=(1, 1))\n",
       "  (conv2): Conv2d(16, 8, kernel_size=(3, 3), stride=(1, 1), padding=(1, 1))\n",
       "  (fc1): Linear(in_features=200, out_features=100, bias=True)\n",
       "  (fc2): Linear(in_features=100, out_features=43, bias=True)\n",
       ")"
      ]
     },
     "execution_count": 97,
     "metadata": {},
     "output_type": "execute_result"
    }
   ],
   "source": [
    "model_net.eval() # ---"
   ]
  },
  {
   "cell_type": "code",
   "execution_count": 49,
   "metadata": {},
   "outputs": [
    {
     "name": "stdout",
     "output_type": "stream",
     "text": [
      "12557\n",
      "tensor([[[ 0.7434,  0.7434,  0.7434,  ..., -1.3777, -1.4259, -1.4259],\n",
      "         [ 0.7434,  0.7434,  0.7675,  ..., -1.3536, -1.4018, -1.4018],\n",
      "         [ 0.7434,  0.7434,  0.7675,  ..., -1.3295, -1.3777, -1.3777],\n",
      "         ...,\n",
      "         [-0.9197, -0.9197, -0.9439,  ..., -1.7151, -1.7151, -1.7151],\n",
      "         [-0.9197, -0.9197, -0.9197,  ..., -1.7151, -1.7151, -1.7151],\n",
      "         [-0.8233, -0.8233, -0.8233,  ..., -1.7151, -1.7151, -1.7151]],\n",
      "\n",
      "        [[ 0.8239,  0.8239,  0.8719,  ..., -1.0984, -1.1705, -1.1705],\n",
      "         [ 0.7999,  0.7999,  0.8719,  ..., -1.0744, -1.1465, -1.1465],\n",
      "         [ 0.7999,  0.7999,  0.8719,  ..., -1.0504, -1.1225, -1.1225],\n",
      "         ...,\n",
      "         [-0.7620, -0.7620, -0.7620,  ..., -1.5790, -1.5790, -1.5790],\n",
      "         [-0.7380, -0.7380, -0.7380,  ..., -1.5790, -1.5790, -1.5790],\n",
      "         [-0.6419, -0.6419, -0.6419,  ..., -1.5550, -1.5790, -1.5790]],\n",
      "\n",
      "        [[ 0.4936,  0.4936,  0.5389,  ..., -1.1375, -1.2282, -1.2282],\n",
      "         [ 0.4710,  0.4710,  0.5389,  ..., -1.1375, -1.2055, -1.2055],\n",
      "         [ 0.4483,  0.4483,  0.5163,  ..., -1.1375, -1.2055, -1.2055],\n",
      "         ...,\n",
      "         [-0.8204, -0.8204, -0.8204,  ..., -1.5000, -1.5000, -1.5000],\n",
      "         [-0.7977, -0.7977, -0.7977,  ..., -1.5000, -1.5000, -1.5000],\n",
      "         [-0.7071, -0.7071, -0.7071,  ..., -1.4774, -1.4774, -1.4774]]]) 38\n"
     ]
    },
    {
     "data": {
      "text/plain": [
       "100"
      ]
     },
     "execution_count": 49,
     "metadata": {},
     "output_type": "execute_result"
    }
   ],
   "source": [
    "print(len(testset))\n",
    "print(testset[12000][0], testset[12000][1])\n",
    "len(testset[1000][0][0][0])"
   ]
  },
  {
   "cell_type": "code",
   "execution_count": 50,
   "metadata": {},
   "outputs": [
    {
     "name": "stdout",
     "output_type": "stream",
     "text": [
      "tensor([[[ 4.0455,  4.0455,  4.0455,  ..., -0.8474, -0.8474, -0.8474],\n",
      "         [ 4.0455,  4.0455,  4.0455,  ..., -0.8474, -0.8715, -0.8715],\n",
      "         [ 4.0455,  4.0455,  4.0214,  ..., -0.8474, -0.9439, -0.9680],\n",
      "         ...,\n",
      "         [-0.5100, -0.4618, -0.1967,  ..., -1.1367, -1.2090, -1.2331],\n",
      "         [-0.4618, -0.4618, -0.4136,  ..., -1.1126, -1.2090, -1.2331],\n",
      "         [-0.4618, -0.4618, -0.4618,  ..., -1.1126, -1.2090, -1.2331]],\n",
      "\n",
      "        [[ 3.4911,  3.4431,  3.2268,  ..., -1.5069, -1.4829, -1.4829],\n",
      "         [ 3.4911,  3.4431,  3.2028,  ..., -1.4829, -1.4589, -1.4589],\n",
      "         [ 3.5392,  3.4671,  3.1547,  ..., -1.3147, -1.3868, -1.4108],\n",
      "         ...,\n",
      "         [ 0.3433,  0.3673,  0.4875,  ..., -1.1225, -1.1705, -1.1946],\n",
      "         [ 0.4635,  0.4394,  0.4394,  ..., -1.1225, -1.1705, -1.1946],\n",
      "         [ 0.4875,  0.4635,  0.4154,  ..., -1.1225, -1.1705, -1.1946]],\n",
      "\n",
      "        [[ 2.3060,  2.2607,  2.0115,  ..., -1.5000, -1.4321, -1.4094],\n",
      "         [ 2.3287,  2.2607,  1.9888,  ..., -1.4774, -1.4321, -1.4094],\n",
      "         [ 2.3740,  2.3060,  1.9435,  ..., -1.4094, -1.3868, -1.3868],\n",
      "         ...,\n",
      "         [ 0.4936,  0.4936,  0.4710,  ..., -1.0243, -1.0696, -1.0696],\n",
      "         [ 0.7202,  0.6975,  0.5616,  ..., -1.0243, -1.0696, -1.0922],\n",
      "         [ 0.7655,  0.7428,  0.5842,  ..., -1.0243, -1.0696, -1.0922]]]) 0\n",
      "<class 'torch.Tensor'>\n",
      "<class 'torch.Tensor'>\n",
      "torch.Size([3, 100, 100])\n",
      "Predicted: \"38\", Actual: \"38\"\n"
     ]
    }
   ],
   "source": [
    "\n",
    "\n",
    "x, y = testset[12000][0], torch.tensor(testset[12000][1]) # tensor, class\n",
    "print(testset[0][0], testset[0][1])\n",
    "print(type(testset[0][0]))\n",
    "print(type(torch.tensor(testset[0][1])))\n",
    "\n",
    "print(x.shape)\n",
    "\n",
    "#trial = torch.FloatTensor(1,3,256,256).to(device)\n",
    "\n",
    "\n",
    "#x, y = testset[0][0].to(device), testset[0][1].to(device)\n",
    "\n",
    "x = x.to(device)\n",
    "y = y.to(device)\n",
    "\n",
    "x = torch.reshape(x, (1,3,size_imgs, size_imgs))\n",
    "#x,y = torch.FloatTensor(1,3,256,256).to(device)\n",
    "with torch.no_grad():\n",
    "    pred = model(x)\n",
    "    predicted, actual = classes2[pred[0].argmax(0)], classes2[y]\n",
    "    print(f'Predicted: \"{predicted}\", Actual: \"{actual}\"')"
   ]
  },
  {
   "cell_type": "code",
   "execution_count": 98,
   "metadata": {},
   "outputs": [
    {
     "data": {
      "text/plain": [
       "[1290,\n",
       " 10627,\n",
       " 3210,\n",
       " 3294,\n",
       " 3380,\n",
       " 10024,\n",
       " 5823,\n",
       " 1445,\n",
       " 5413,\n",
       " 10319,\n",
       " 4077,\n",
       " 2837,\n",
       " 5928,\n",
       " 6267,\n",
       " 9381,\n",
       " 4806,\n",
       " 10701,\n",
       " 4802,\n",
       " 10137,\n",
       " 3520]"
      ]
     },
     "execution_count": 98,
     "metadata": {},
     "output_type": "execute_result"
    }
   ],
   "source": [
    "from random import randrange\n",
    "randrange(10)\n",
    "new_list = []\n",
    "for i in range(20):\n",
    "    n = randrange(12000)\n",
    "    new_list.extend([n])\n",
    "new_list"
   ]
  },
  {
   "cell_type": "code",
   "execution_count": 99,
   "metadata": {},
   "outputs": [
    {
     "name": "stdout",
     "output_type": "stream",
     "text": [
      "\"12000\": Predicted: \"38\", Actual: \"38\",\"True\" \n",
      "\"10627\": Predicted: \"7\", Actual: \"32\",\"False\" \n",
      "\"3210\": Predicted: \"1\", Actual: \"6\",\"False\" \n",
      "\"3294\": Predicted: \"7\", Actual: \"6\",\"False\" \n",
      "\"3380\": Predicted: \"10\", Actual: \"7\",\"False\" \n",
      "\"10024\": Predicted: \"1\", Actual: \"28\",\"False\" \n",
      "\"5823\": Predicted: \"12\", Actual: \"12\",\"True\" \n",
      "\"1445\": Predicted: \"13\", Actual: \"2\",\"False\" \n",
      "\"5413\": Predicted: \"25\", Actual: \"11\",\"False\" \n",
      "\"10319\": Predicted: \"38\", Actual: \"31\",\"False\" \n",
      "\"4077\": Predicted: \"10\", Actual: \"8\",\"False\" \n",
      "\"2837\": Predicted: \"2\", Actual: \"5\",\"False\" \n",
      "\"5928\": Predicted: \"12\", Actual: \"12\",\"True\" \n",
      "\"6267\": Predicted: \"12\", Actual: \"12\",\"True\" \n",
      "\"9381\": Predicted: \"11\", Actual: \"25\",\"False\" \n",
      "\"4806\": Predicted: \"10\", Actual: \"10\",\"True\" \n",
      "\"10701\": Predicted: \"38\", Actual: \"33\",\"False\" \n",
      "\"4802\": Predicted: \"10\", Actual: \"10\",\"True\" \n",
      "\"10137\": Predicted: \"17\", Actual: \"29\",\"False\" \n",
      "\"3520\": Predicted: \"1\", Actual: \"7\",\"False\" \n"
     ]
    }
   ],
   "source": [
    "# Predicting for many values\n",
    "\n",
    "new_list[0] = 12000\n",
    "list_to_predict = [12000, 100,1000,11000]\n",
    "for number in new_list:\n",
    "    x, y = testset[number][0], torch.tensor(testset[number][1]) # tensor, class\n",
    "    x = x.to(device)\n",
    "    y = y.to(device)\n",
    "    x = torch.reshape(x, (1,3,size_imgs, size_imgs))\n",
    "    with torch.no_grad():\n",
    "        pred = model_net(x)\n",
    "        predicted, actual = classes2[pred[0].argmax(0)], classes2[y]\n",
    "        print(f'\"{number}\": Predicted: \"{predicted}\", Actual: \"{actual}\",\"{predicted==actual}\" ')\n",
    "        "
   ]
  },
  {
   "cell_type": "code",
   "execution_count": 67,
   "metadata": {},
   "outputs": [],
   "source": [
    "def display_image(train ,n):\n",
    "    if train:\n",
    "        img = trainset_t[n][0].squeeze()\n",
    "        images = img[0,:,:] \n",
    "        images = images.unsqueeze(0) #https://stackoverflow.com/questions/52439364/how-to-convert-rgb-images-to-grayscale-in-pytorch-dataloader\n",
    "        #print(type(images))\n",
    "        images = images.squeeze()\n",
    "        plt.imshow(images, cmap=\"gray\")\n",
    "        plt.show()\n",
    "        print(\"Label: \", torch.tensor(trainset_t[n][1]))\n",
    "    else:\n",
    "        img = testset[n][0].squeeze()\n",
    "        images = img[0,:,:] \n",
    "        images = images.unsqueeze(0) #https://stackoverflow.com/questions/52439364/how-to-convert-rgb-images-to-grayscale-in-pytorch-dataloader\n",
    "        #print(type(images))\n",
    "        images = images.squeeze()\n",
    "        plt.imshow(images, cmap=\"gray\")\n",
    "        plt.show()\n",
    "        print(\"Label: \", torch.tensor(testset[n][1]))"
   ]
  },
  {
   "cell_type": "code",
   "execution_count": 85,
   "metadata": {},
   "outputs": [
    {
     "data": {
      "image/png": "[encoded data removed]",
      "text/plain": [
       "<Figure size 432x288 with 1 Axes>"
      ]
     },
     "metadata": {
      "needs_background": "light"
     },
     "output_type": "display_data"
    },
    {
     "name": "stdout",
     "output_type": "stream",
     "text": [
      "Label:  tensor(4)\n"
     ]
    },
    {
     "data": {
      "image/png": "[encoded data removed]",
      "text/plain": [
       "<Figure size 432x288 with 1 Axes>"
      ]
     },
     "metadata": {
      "needs_background": "light"
     },
     "output_type": "display_data"
    },
    {
     "name": "stdout",
     "output_type": "stream",
     "text": [
      "Label:  tensor(4)\n"
     ]
    },
    {
     "data": {
      "image/png": "[encoded data removed]",
      "text/plain": [
       "<Figure size 432x288 with 1 Axes>"
      ]
     },
     "metadata": {
      "needs_background": "light"
     },
     "output_type": "display_data"
    },
    {
     "name": "stdout",
     "output_type": "stream",
     "text": [
      "Label:  tensor(13)\n"
     ]
    },
    {
     "data": {
      "image/png": "[encoded data removed]",
      "text/plain": [
       "<Figure size 432x288 with 1 Axes>"
      ]
     },
     "metadata": {
      "needs_background": "light"
     },
     "output_type": "display_data"
    },
    {
     "name": "stdout",
     "output_type": "stream",
     "text": [
      "Label:  tensor(13)\n"
     ]
    }
   ],
   "source": [
    "'''\n",
    "\"2390\": Predicted: \"4\", Actual: \"4\",\"True\" \n",
    "\"6227\": Predicted: \"12\", Actual: \"12\",\"True\" \n",
    "\"5948\": Predicted: \"12\", Actual: \"12\",\"True\" \n",
    "\"1929\": Predicted: \"13\", Actual: \"4\",\"False\"\n",
    "'''\n",
    "display_image( False,2390)\n",
    "display_image(False,1929)\n",
    "display_image(False,6847)\n",
    "display_image(False,7164)"
   ]
  },
  {
   "cell_type": "code",
   "execution_count": null,
   "metadata": {},
   "outputs": [],
   "source": []
  },
  {
   "cell_type": "markdown",
   "metadata": {
    "id": "1O-1n4WtXIWG"
   },
   "source": [
    "## References\n",
    "1. Book: Deep Learning With PyTorch"
   ]
  },
  {
   "cell_type": "code",
   "execution_count": null,
   "metadata": {
    "id": "p0uiSHpUaNY1"
   },
   "outputs": [],
   "source": []
  }
 ],
 "metadata": {
  "colab": {
   "collapsed_sections": [
    "ga0itVA4j5s8",
    "OmZTXjenW5sF",
    "Z7qD_LDLeL2t",
    "uXK46mCUW5OG",
    "1O-1n4WtXIWG"
   ],
   "name": "Building_CNN",
   "provenance": []
  },
  "kernelspec": {
   "display_name": "Python 3",
   "language": "python",
   "name": "python3"
  },
  "language_info": {
   "codemirror_mode": {
    "name": "ipython",
    "version": 3
   },
   "file_extension": ".py",
   "mimetype": "text/x-python",
   "name": "python",
   "nbconvert_exporter": "python",
   "pygments_lexer": "ipython3",
   "version": "3.8.3"
  }
 },
 "nbformat": 4,
 "nbformat_minor": 1
}
