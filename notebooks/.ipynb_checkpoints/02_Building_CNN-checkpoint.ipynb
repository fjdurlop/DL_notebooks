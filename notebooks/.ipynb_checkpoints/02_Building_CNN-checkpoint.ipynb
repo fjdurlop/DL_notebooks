{
 "cells": [
  {
   "cell_type": "markdown",
   "metadata": {
    "id": "uJEkNkOHWrQN"
   },
   "source": [
    "# Steps for building a CNN \n",
    "#### fjdurlop\n"
   ]
  },
  {
   "cell_type": "markdown",
   "metadata": {
    "id": "ga0itVA4j5s8"
   },
   "source": [
    "## Index\n"
   ]
  },
  {
   "cell_type": "markdown",
   "metadata": {
    "id": "BmSfaxqSkBhM"
   },
   "source": [
    "\n",
    "1. Reading data\n",
    "1. Preprocessing data\n",
    "    1. Normalize images\n",
    "        - Resize\n",
    "        - Center \n",
    "        - Normalize\n",
    "    2. Create Dataset and DataLoader\n",
    "2. Processing data\n",
    "    1. Split data\n",
    "        - Training set\n",
    "        - Validation set\n",
    "    2. Training\n",
    "        1. Training loop\n",
    "        2. Get weights\n",
    "    3. Validation\n",
    "        1. Performance\n"
   ]
  },
  {
   "cell_type": "markdown",
   "metadata": {
    "id": "9tP_JMqgga8k"
   },
   "source": [
    "## Reading data\n",
    "    "
   ]
  },
  {
   "cell_type": "code",
   "execution_count": 1,
   "metadata": {
    "id": "zCwF1oY6pjoA"
   },
   "outputs": [],
   "source": [
    "\n",
    "import numpy as np # linear algebra\n",
    "import pandas as pd # data processing, CSV file I/O (e.g. pd.read_csv)\n",
    "\n",
    "import torch\n",
    "import torchvision\n",
    "import torch.nn as nn\n",
    "import torch.nn.functional as F\n",
    "import torch.optim as optim\n",
    "from torchvision import transforms\n",
    "\n",
    "import matplotlib.pyplot as plt\n",
    "import csv\n",
    "\n",
    "#import cv2\n",
    "\n",
    "from PIL import Image\n",
    "from PIL import ImageFilter\n",
    "\n",
    "import os\n",
    "import shutil\n"
   ]
  },
  {
   "cell_type": "code",
   "execution_count": 2,
   "metadata": {
    "colab": {
     "base_uri": "https://localhost:8080/"
    },
    "id": "S5XAiRRMg5yH",
    "outputId": "c5ecd50f-0e7e-47fc-bb73-eb9e6a5a9f97"
   },
   "outputs": [
    {
     "name": "stdout",
     "output_type": "stream",
     "text": [
      "^C\n"
     ]
    }
   ],
   "source": [
    "### Reading data\n"
   ]
  },
  {
   "cell_type": "code",
   "execution_count": 3,
   "metadata": {},
   "outputs": [
    {
     "name": "stdout",
     "output_type": "stream",
     "text": [
      " Volume in drive C has no label.\n",
      " Volume Serial Number is 6A74-108F\n",
      "\n",
      " Directory of C:\\Users\\Francisco Duran\\Desktop\\upc\\project_notebooks\\github_project\\DL_notebooks\\notebooks\n",
      "\n",
      "05/20/2021  06:59 PM    <DIR>          .\n",
      "05/20/2021  06:59 PM    <DIR>          ..\n",
      "05/20/2021  06:51 PM    <DIR>          .ipynb_checkpoints\n",
      "05/20/2021  06:59 PM            67,207 01_CNN.ipynb\n",
      "05/20/2021  06:48 PM            63,992 02_Building_CNN.ipynb\n",
      "               2 File(s)        131,199 bytes\n",
      "               3 Dir(s)  345,372,655,616 bytes free\n"
     ]
    }
   ],
   "source": [
    "ls"
   ]
  },
  {
   "cell_type": "code",
   "execution_count": 5,
   "metadata": {
    "colab": {
     "base_uri": "https://localhost:8080/"
    },
    "id": "yoB3lLbblN8e",
    "outputId": "cc7363e0-dae3-45ad-f610-7c931463ca81"
   },
   "outputs": [
    {
     "data": {
      "text/plain": [
       "'C:\\\\Users\\\\Francisco Duran\\\\Desktop\\\\upc\\\\project_notebooks\\\\github_project\\\\DL_notebooks\\\\notebooks'"
      ]
     },
     "execution_count": 5,
     "metadata": {},
     "output_type": "execute_result"
    }
   ],
   "source": [
    "pwd"
   ]
  },
  {
   "cell_type": "markdown",
   "metadata": {
    "id": "m1aXt1j6W484"
   },
   "source": [
    "## Preprocessing data\n",
    "1. Normalize images\n",
    "    1. Convert images to tensors\n",
    "    1. Obtain mean and std\n",
    "    2. Preprocess with transforms\n",
    "        - Resize\n",
    "        - Center \n",
    "        - Normalize\n",
    "2. Create Dataset and DataLoader"
   ]
  },
  {
   "cell_type": "code",
   "execution_count": 3,
   "metadata": {
    "id": "_-njgXjvgJ7y"
   },
   "outputs": [],
   "source": [
    "### Converting images to tensors\n",
    "\n",
    "preprocess_no_normalize = transforms.Compose([\n",
    "    transforms.Resize(256),\n",
    "    transforms.CenterCrop(256),\n",
    "    transforms.ToTensor(),\n",
    "    #transforms.Normalize(mean=[0.3418, 0.3126, 0.3224], std=[0.1627, 0.1632, 0.1731])\n",
    "])\n",
    "\n",
    "#trainset = torchvision.datasets.ImageFolder(\"GTSRB/Training\", transform = preprocess)\n",
    "#trainset_t = torchvision.datasets.ImageFolder(\"CNN-in-mobile-device/data/raw/TRAIN\",transform = preprocess_no_normalize)\n",
    "\n",
    "trainset_t = torchvision.datasets.ImageFolder(\"C:/Users/Francisco Duran/Documents/GitHub/CNN-in-mobile-device/data/raw/TRAIN\",transform = preprocess_no_normalize)\n",
    "\n"
   ]
  },
  {
   "cell_type": "code",
   "execution_count": 4,
   "metadata": {},
   "outputs": [
    {
     "data": {
      "text/plain": [
       "(tensor([[[0.0431, 0.0431, 0.0431,  ..., 0.2667, 0.2667, 0.2667],\n",
       "          [0.0667, 0.0667, 0.0667,  ..., 0.2706, 0.2706, 0.2706],\n",
       "          [0.0902, 0.0902, 0.0902,  ..., 0.2745, 0.2745, 0.2745],\n",
       "          ...,\n",
       "          [0.3843, 0.3843, 0.3843,  ..., 0.3647, 0.3647, 0.3647],\n",
       "          [0.3843, 0.3843, 0.3843,  ..., 0.3608, 0.3608, 0.3608],\n",
       "          [0.3843, 0.3843, 0.3843,  ..., 0.3529, 0.3529, 0.3529]],\n",
       " \n",
       "         [[0.2941, 0.2941, 0.2941,  ..., 0.2588, 0.2588, 0.2588],\n",
       "          [0.2980, 0.2980, 0.2980,  ..., 0.2667, 0.2667, 0.2667],\n",
       "          [0.3020, 0.3020, 0.3020,  ..., 0.2706, 0.2706, 0.2706],\n",
       "          ...,\n",
       "          [0.3373, 0.3373, 0.3373,  ..., 0.3569, 0.3569, 0.3569],\n",
       "          [0.3373, 0.3373, 0.3373,  ..., 0.3569, 0.3569, 0.3569],\n",
       "          [0.3333, 0.3333, 0.3333,  ..., 0.3529, 0.3529, 0.3529]],\n",
       " \n",
       "         [[0.3059, 0.3059, 0.3059,  ..., 0.2627, 0.2627, 0.2627],\n",
       "          [0.3098, 0.3098, 0.3098,  ..., 0.2706, 0.2706, 0.2706],\n",
       "          [0.3098, 0.3098, 0.3098,  ..., 0.2745, 0.2745, 0.2745],\n",
       "          ...,\n",
       "          [0.3412, 0.3412, 0.3412,  ..., 0.3882, 0.3882, 0.3882],\n",
       "          [0.3333, 0.3333, 0.3333,  ..., 0.3843, 0.3843, 0.3843],\n",
       "          [0.3294, 0.3294, 0.3294,  ..., 0.3804, 0.3804, 0.3804]]]),\n",
       " 0)"
      ]
     },
     "execution_count": 4,
     "metadata": {},
     "output_type": "execute_result"
    }
   ],
   "source": [
    "trainset_t[0]"
   ]
  },
  {
   "cell_type": "code",
   "execution_count": 7,
   "metadata": {
    "colab": {
     "base_uri": "https://localhost:8080/",
     "height": 1000
    },
    "id": "dk8pRKIy8RLr",
    "outputId": "ba38b53a-009e-4047-b4c9-88807e4bdc6a"
   },
   "outputs": [
    {
     "name": "stdout",
     "output_type": "stream",
     "text": [
      "(tensor([[[0.2941, 0.2941, 0.2941,  ..., 0.2588, 0.2588, 0.2588],\n",
      "         [0.2980, 0.2980, 0.2980,  ..., 0.2667, 0.2667, 0.2667],\n",
      "         [0.3020, 0.3020, 0.3020,  ..., 0.2706, 0.2706, 0.2706],\n",
      "         ...,\n",
      "         [0.3373, 0.3373, 0.3373,  ..., 0.3569, 0.3569, 0.3569],\n",
      "         [0.3373, 0.3373, 0.3373,  ..., 0.3569, 0.3569, 0.3569],\n",
      "         [0.3333, 0.3333, 0.3333,  ..., 0.3529, 0.3529, 0.3529]],\n",
      "\n",
      "        [[0.3059, 0.3059, 0.3059,  ..., 0.2627, 0.2627, 0.2627],\n",
      "         [0.3098, 0.3098, 0.3098,  ..., 0.2706, 0.2706, 0.2706],\n",
      "         [0.3098, 0.3098, 0.3098,  ..., 0.2745, 0.2745, 0.2745],\n",
      "         ...,\n",
      "         [0.3412, 0.3412, 0.3412,  ..., 0.3882, 0.3882, 0.3882],\n",
      "         [0.3333, 0.3333, 0.3333,  ..., 0.3843, 0.3843, 0.3843],\n",
      "         [0.3294, 0.3294, 0.3294,  ..., 0.3804, 0.3804, 0.3804]],\n",
      "\n",
      "        [[0.3137, 0.3137, 0.3137,  ..., 0.2588, 0.2588, 0.2588],\n",
      "         [0.3176, 0.3176, 0.3176,  ..., 0.2667, 0.2667, 0.2667],\n",
      "         [0.3176, 0.3176, 0.3176,  ..., 0.2706, 0.2706, 0.2706],\n",
      "         ...,\n",
      "         [0.3529, 0.3529, 0.3529,  ..., 0.3569, 0.3569, 0.3569],\n",
      "         [0.3490, 0.3490, 0.3490,  ..., 0.3529, 0.3529, 0.3529],\n",
      "         [0.3412, 0.3412, 0.3412,  ..., 0.3490, 0.3490, 0.3490]]]), 0)\n"
     ]
    },
    {
     "ename": "TypeError",
     "evalue": "ignored",
     "output_type": "error",
     "traceback": [
      "\u001b[0;31m---------------------------------------------------------------------------\u001b[0m",
      "\u001b[0;31mTypeError\u001b[0m                                 Traceback (most recent call last)",
      "\u001b[0;32m<ipython-input-7-c855c1d5db1c>\u001b[0m in \u001b[0;36m<module>\u001b[0;34m()\u001b[0m\n\u001b[1;32m      2\u001b[0m \u001b[0mimg\u001b[0m\u001b[0;34m,\u001b[0m\u001b[0mlabel\u001b[0m \u001b[0;34m=\u001b[0m \u001b[0mtrainset_t\u001b[0m\u001b[0;34m[\u001b[0m\u001b[0;36m0\u001b[0m\u001b[0;34m]\u001b[0m\u001b[0;34m\u001b[0m\u001b[0;34m\u001b[0m\u001b[0m\n\u001b[1;32m      3\u001b[0m \u001b[0mimg\u001b[0m\u001b[0;34m,\u001b[0m \u001b[0mlabel\u001b[0m\u001b[0;34m\u001b[0m\u001b[0;34m\u001b[0m\u001b[0m\n\u001b[0;32m----> 4\u001b[0;31m \u001b[0mplt\u001b[0m\u001b[0;34m.\u001b[0m\u001b[0mimshow\u001b[0m\u001b[0;34m(\u001b[0m\u001b[0mimg\u001b[0m\u001b[0;34m)\u001b[0m\u001b[0;34m\u001b[0m\u001b[0;34m\u001b[0m\u001b[0m\n\u001b[0m",
      "\u001b[0;32m/usr/local/lib/python3.7/dist-packages/matplotlib/pyplot.py\u001b[0m in \u001b[0;36mimshow\u001b[0;34m(X, cmap, norm, aspect, interpolation, alpha, vmin, vmax, origin, extent, shape, filternorm, filterrad, imlim, resample, url, data, **kwargs)\u001b[0m\n\u001b[1;32m   2649\u001b[0m         \u001b[0mfilternorm\u001b[0m\u001b[0;34m=\u001b[0m\u001b[0mfilternorm\u001b[0m\u001b[0;34m,\u001b[0m \u001b[0mfilterrad\u001b[0m\u001b[0;34m=\u001b[0m\u001b[0mfilterrad\u001b[0m\u001b[0;34m,\u001b[0m \u001b[0mimlim\u001b[0m\u001b[0;34m=\u001b[0m\u001b[0mimlim\u001b[0m\u001b[0;34m,\u001b[0m\u001b[0;34m\u001b[0m\u001b[0;34m\u001b[0m\u001b[0m\n\u001b[1;32m   2650\u001b[0m         resample=resample, url=url, **({\"data\": data} if data is not\n\u001b[0;32m-> 2651\u001b[0;31m         None else {}), **kwargs)\n\u001b[0m\u001b[1;32m   2652\u001b[0m     \u001b[0msci\u001b[0m\u001b[0;34m(\u001b[0m\u001b[0m__ret\u001b[0m\u001b[0;34m)\u001b[0m\u001b[0;34m\u001b[0m\u001b[0;34m\u001b[0m\u001b[0m\n\u001b[1;32m   2653\u001b[0m     \u001b[0;32mreturn\u001b[0m \u001b[0m__ret\u001b[0m\u001b[0;34m\u001b[0m\u001b[0;34m\u001b[0m\u001b[0m\n",
      "\u001b[0;32m/usr/local/lib/python3.7/dist-packages/matplotlib/__init__.py\u001b[0m in \u001b[0;36minner\u001b[0;34m(ax, data, *args, **kwargs)\u001b[0m\n\u001b[1;32m   1563\u001b[0m     \u001b[0;32mdef\u001b[0m \u001b[0minner\u001b[0m\u001b[0;34m(\u001b[0m\u001b[0max\u001b[0m\u001b[0;34m,\u001b[0m \u001b[0;34m*\u001b[0m\u001b[0margs\u001b[0m\u001b[0;34m,\u001b[0m \u001b[0mdata\u001b[0m\u001b[0;34m=\u001b[0m\u001b[0;32mNone\u001b[0m\u001b[0;34m,\u001b[0m \u001b[0;34m**\u001b[0m\u001b[0mkwargs\u001b[0m\u001b[0;34m)\u001b[0m\u001b[0;34m:\u001b[0m\u001b[0;34m\u001b[0m\u001b[0;34m\u001b[0m\u001b[0m\n\u001b[1;32m   1564\u001b[0m         \u001b[0;32mif\u001b[0m \u001b[0mdata\u001b[0m \u001b[0;32mis\u001b[0m \u001b[0;32mNone\u001b[0m\u001b[0;34m:\u001b[0m\u001b[0;34m\u001b[0m\u001b[0;34m\u001b[0m\u001b[0m\n\u001b[0;32m-> 1565\u001b[0;31m             \u001b[0;32mreturn\u001b[0m \u001b[0mfunc\u001b[0m\u001b[0;34m(\u001b[0m\u001b[0max\u001b[0m\u001b[0;34m,\u001b[0m \u001b[0;34m*\u001b[0m\u001b[0mmap\u001b[0m\u001b[0;34m(\u001b[0m\u001b[0msanitize_sequence\u001b[0m\u001b[0;34m,\u001b[0m \u001b[0margs\u001b[0m\u001b[0;34m)\u001b[0m\u001b[0;34m,\u001b[0m \u001b[0;34m**\u001b[0m\u001b[0mkwargs\u001b[0m\u001b[0;34m)\u001b[0m\u001b[0;34m\u001b[0m\u001b[0;34m\u001b[0m\u001b[0m\n\u001b[0m\u001b[1;32m   1566\u001b[0m \u001b[0;34m\u001b[0m\u001b[0m\n\u001b[1;32m   1567\u001b[0m         \u001b[0mbound\u001b[0m \u001b[0;34m=\u001b[0m \u001b[0mnew_sig\u001b[0m\u001b[0;34m.\u001b[0m\u001b[0mbind\u001b[0m\u001b[0;34m(\u001b[0m\u001b[0max\u001b[0m\u001b[0;34m,\u001b[0m \u001b[0;34m*\u001b[0m\u001b[0margs\u001b[0m\u001b[0;34m,\u001b[0m \u001b[0;34m**\u001b[0m\u001b[0mkwargs\u001b[0m\u001b[0;34m)\u001b[0m\u001b[0;34m\u001b[0m\u001b[0;34m\u001b[0m\u001b[0m\n",
      "\u001b[0;32m/usr/local/lib/python3.7/dist-packages/matplotlib/cbook/deprecation.py\u001b[0m in \u001b[0;36mwrapper\u001b[0;34m(*args, **kwargs)\u001b[0m\n\u001b[1;32m    356\u001b[0m                 \u001b[0;34mf\"%(removal)s.  If any parameter follows {name!r}, they \"\u001b[0m\u001b[0;34m\u001b[0m\u001b[0;34m\u001b[0m\u001b[0m\n\u001b[1;32m    357\u001b[0m                 f\"should be pass as keyword, not positionally.\")\n\u001b[0;32m--> 358\u001b[0;31m         \u001b[0;32mreturn\u001b[0m \u001b[0mfunc\u001b[0m\u001b[0;34m(\u001b[0m\u001b[0;34m*\u001b[0m\u001b[0margs\u001b[0m\u001b[0;34m,\u001b[0m \u001b[0;34m**\u001b[0m\u001b[0mkwargs\u001b[0m\u001b[0;34m)\u001b[0m\u001b[0;34m\u001b[0m\u001b[0;34m\u001b[0m\u001b[0m\n\u001b[0m\u001b[1;32m    359\u001b[0m \u001b[0;34m\u001b[0m\u001b[0m\n\u001b[1;32m    360\u001b[0m     \u001b[0;32mreturn\u001b[0m \u001b[0mwrapper\u001b[0m\u001b[0;34m\u001b[0m\u001b[0;34m\u001b[0m\u001b[0m\n",
      "\u001b[0;32m/usr/local/lib/python3.7/dist-packages/matplotlib/cbook/deprecation.py\u001b[0m in \u001b[0;36mwrapper\u001b[0;34m(*args, **kwargs)\u001b[0m\n\u001b[1;32m    356\u001b[0m                 \u001b[0;34mf\"%(removal)s.  If any parameter follows {name!r}, they \"\u001b[0m\u001b[0;34m\u001b[0m\u001b[0;34m\u001b[0m\u001b[0m\n\u001b[1;32m    357\u001b[0m                 f\"should be pass as keyword, not positionally.\")\n\u001b[0;32m--> 358\u001b[0;31m         \u001b[0;32mreturn\u001b[0m \u001b[0mfunc\u001b[0m\u001b[0;34m(\u001b[0m\u001b[0;34m*\u001b[0m\u001b[0margs\u001b[0m\u001b[0;34m,\u001b[0m \u001b[0;34m**\u001b[0m\u001b[0mkwargs\u001b[0m\u001b[0;34m)\u001b[0m\u001b[0;34m\u001b[0m\u001b[0;34m\u001b[0m\u001b[0m\n\u001b[0m\u001b[1;32m    359\u001b[0m \u001b[0;34m\u001b[0m\u001b[0m\n\u001b[1;32m    360\u001b[0m     \u001b[0;32mreturn\u001b[0m \u001b[0mwrapper\u001b[0m\u001b[0;34m\u001b[0m\u001b[0;34m\u001b[0m\u001b[0m\n",
      "\u001b[0;32m/usr/local/lib/python3.7/dist-packages/matplotlib/axes/_axes.py\u001b[0m in \u001b[0;36mimshow\u001b[0;34m(self, X, cmap, norm, aspect, interpolation, alpha, vmin, vmax, origin, extent, shape, filternorm, filterrad, imlim, resample, url, **kwargs)\u001b[0m\n\u001b[1;32m   5624\u001b[0m                               resample=resample, **kwargs)\n\u001b[1;32m   5625\u001b[0m \u001b[0;34m\u001b[0m\u001b[0m\n\u001b[0;32m-> 5626\u001b[0;31m         \u001b[0mim\u001b[0m\u001b[0;34m.\u001b[0m\u001b[0mset_data\u001b[0m\u001b[0;34m(\u001b[0m\u001b[0mX\u001b[0m\u001b[0;34m)\u001b[0m\u001b[0;34m\u001b[0m\u001b[0;34m\u001b[0m\u001b[0m\n\u001b[0m\u001b[1;32m   5627\u001b[0m         \u001b[0mim\u001b[0m\u001b[0;34m.\u001b[0m\u001b[0mset_alpha\u001b[0m\u001b[0;34m(\u001b[0m\u001b[0malpha\u001b[0m\u001b[0;34m)\u001b[0m\u001b[0;34m\u001b[0m\u001b[0;34m\u001b[0m\u001b[0m\n\u001b[1;32m   5628\u001b[0m         \u001b[0;32mif\u001b[0m \u001b[0mim\u001b[0m\u001b[0;34m.\u001b[0m\u001b[0mget_clip_path\u001b[0m\u001b[0;34m(\u001b[0m\u001b[0;34m)\u001b[0m \u001b[0;32mis\u001b[0m \u001b[0;32mNone\u001b[0m\u001b[0;34m:\u001b[0m\u001b[0;34m\u001b[0m\u001b[0;34m\u001b[0m\u001b[0m\n",
      "\u001b[0;32m/usr/local/lib/python3.7/dist-packages/matplotlib/image.py\u001b[0m in \u001b[0;36mset_data\u001b[0;34m(self, A)\u001b[0m\n\u001b[1;32m    697\u001b[0m                 or self._A.ndim == 3 and self._A.shape[-1] in [3, 4]):\n\u001b[1;32m    698\u001b[0m             raise TypeError(\"Invalid shape {} for image data\"\n\u001b[0;32m--> 699\u001b[0;31m                             .format(self._A.shape))\n\u001b[0m\u001b[1;32m    700\u001b[0m \u001b[0;34m\u001b[0m\u001b[0m\n\u001b[1;32m    701\u001b[0m         \u001b[0;32mif\u001b[0m \u001b[0mself\u001b[0m\u001b[0;34m.\u001b[0m\u001b[0m_A\u001b[0m\u001b[0;34m.\u001b[0m\u001b[0mndim\u001b[0m \u001b[0;34m==\u001b[0m \u001b[0;36m3\u001b[0m\u001b[0;34m:\u001b[0m\u001b[0;34m\u001b[0m\u001b[0;34m\u001b[0m\u001b[0m\n",
      "\u001b[0;31mTypeError\u001b[0m: Invalid shape (3, 256, 256) for image data"
     ]
    },
    {
     "data": {
      "image/png": "[encoded data removed]",
      "text/plain": [
       "<Figure size 432x288 with 1 Axes>"
      ]
     },
     "metadata": {
      "needs_background": "light",
      "tags": []
     },
     "output_type": "display_data"
    }
   ],
   "source": [
    "\n",
    "img,label = trainset[0]\n",
    "img, label\n",
    "plt.imshow(img)"
   ]
  },
  {
   "cell_type": "code",
   "execution_count": 5,
   "metadata": {
    "colab": {
     "base_uri": "https://localhost:8080/"
    },
    "id": "9YsJMw5cs3c5",
    "outputId": "ff671443-fff8-4621-9a78-c7a8dc6df91b"
   },
   "outputs": [
    {
     "data": {
      "text/plain": [
       "(<PIL.Image.Image image mode=RGB size=29x30 at 0x7F99AFE61A10>, 0)"
      ]
     },
     "execution_count": 5,
     "metadata": {
      "tags": []
     },
     "output_type": "execute_result"
    }
   ],
   "source": [
    "trainset[0]"
   ]
  },
  {
   "cell_type": "code",
   "execution_count": 6,
   "metadata": {
    "colab": {
     "base_uri": "https://localhost:8080/",
     "height": 302
    },
    "id": "Cn_ytm9JpqpW",
    "outputId": "5b7de003-84be-4e0c-8a49-d5c9e28f9000"
   },
   "outputs": [
    {
     "ename": "TypeError",
     "evalue": "ignored",
     "output_type": "error",
     "traceback": [
      "\u001b[0;31m---------------------------------------------------------------------------\u001b[0m",
      "\u001b[0;31mTypeError\u001b[0m                                 Traceback (most recent call last)",
      "\u001b[0;32m<ipython-input-6-fbfd15ec9e4f>\u001b[0m in \u001b[0;36m<module>\u001b[0;34m()\u001b[0m\n\u001b[1;32m      3\u001b[0m \u001b[0;34m\u001b[0m\u001b[0m\n\u001b[1;32m      4\u001b[0m \u001b[0mlen\u001b[0m\u001b[0;34m(\u001b[0m\u001b[0mtrainset_t\u001b[0m\u001b[0;34m)\u001b[0m\u001b[0;34m\u001b[0m\u001b[0;34m\u001b[0m\u001b[0m\n\u001b[0;32m----> 5\u001b[0;31m \u001b[0msizes\u001b[0m \u001b[0;34m=\u001b[0m \u001b[0;34m[\u001b[0m\u001b[0mlist\u001b[0m\u001b[0;34m(\u001b[0m\u001b[0mn\u001b[0m\u001b[0;34m[\u001b[0m\u001b[0;36m0\u001b[0m\u001b[0;34m]\u001b[0m\u001b[0;34m.\u001b[0m\u001b[0msize\u001b[0m\u001b[0;34m)\u001b[0m \u001b[0;32mfor\u001b[0m \u001b[0mn\u001b[0m \u001b[0;32min\u001b[0m \u001b[0mtrainset_t\u001b[0m\u001b[0;34m]\u001b[0m\u001b[0;34m\u001b[0m\u001b[0;34m\u001b[0m\u001b[0m\n\u001b[0m",
      "\u001b[0;32m<ipython-input-6-fbfd15ec9e4f>\u001b[0m in \u001b[0;36m<listcomp>\u001b[0;34m(.0)\u001b[0m\n\u001b[1;32m      3\u001b[0m \u001b[0;34m\u001b[0m\u001b[0m\n\u001b[1;32m      4\u001b[0m \u001b[0mlen\u001b[0m\u001b[0;34m(\u001b[0m\u001b[0mtrainset_t\u001b[0m\u001b[0;34m)\u001b[0m\u001b[0;34m\u001b[0m\u001b[0;34m\u001b[0m\u001b[0m\n\u001b[0;32m----> 5\u001b[0;31m \u001b[0msizes\u001b[0m \u001b[0;34m=\u001b[0m \u001b[0;34m[\u001b[0m\u001b[0mlist\u001b[0m\u001b[0;34m(\u001b[0m\u001b[0mn\u001b[0m\u001b[0;34m[\u001b[0m\u001b[0;36m0\u001b[0m\u001b[0;34m]\u001b[0m\u001b[0;34m.\u001b[0m\u001b[0msize\u001b[0m\u001b[0;34m)\u001b[0m \u001b[0;32mfor\u001b[0m \u001b[0mn\u001b[0m \u001b[0;32min\u001b[0m \u001b[0mtrainset_t\u001b[0m\u001b[0;34m]\u001b[0m\u001b[0;34m\u001b[0m\u001b[0;34m\u001b[0m\u001b[0m\n\u001b[0m",
      "\u001b[0;31mTypeError\u001b[0m: 'builtin_function_or_method' object is not iterable"
     ]
    }
   ],
   "source": [
    "#len(trainset)\n",
    "#sizes = [list(n[0].size) for n in trainset]\n",
    "\n",
    "len(trainset_t)\n",
    "sizes = [list(n[0].size) for n in trainset_t]\n"
   ]
  },
  {
   "cell_type": "code",
   "execution_count": 7,
   "metadata": {
    "id": "cGRR_5ZBqr_v"
   },
   "outputs": [],
   "source": [
    "np_sizes = np.array(sizes)"
   ]
  },
  {
   "cell_type": "code",
   "execution_count": 8,
   "metadata": {
    "colab": {
     "base_uri": "https://localhost:8080/"
    },
    "id": "Bv4gn9Dtrdq7",
    "outputId": "37cf428a-edd0-47fe-c736-a4289c9ec65d"
   },
   "outputs": [
    {
     "name": "stdout",
     "output_type": "stream",
     "text": [
      "[[29 30]\n",
      " [30 30]\n",
      " [30 30]\n",
      " [31 31]\n",
      " [30 32]]\n",
      "The mean of width = 50.836207 , height = 50.329193\n"
     ]
    }
   ],
   "source": [
    "print(np_sizes[:5])\n",
    "\n",
    "# Mean of sizes of training dataset\n",
    "mean_sizes_training = np_sizes.sum(0)/len(np_sizes)\n",
    "\n",
    "print('The mean of width = %f , height = %f'% (mean_sizes_training[0],mean_sizes_training[1]))"
   ]
  },
  {
   "cell_type": "code",
   "execution_count": 9,
   "metadata": {
    "colab": {
     "base_uri": "https://localhost:8080/"
    },
    "id": "ac9ymsDCpcsd",
    "outputId": "1f734d5e-996d-4dc5-aea3-e4e6f154ba01"
   },
   "outputs": [
    {
     "name": "stdout",
     "output_type": "stream",
     "text": [
      "The mean of width = 50.527037 , height = 50.380346\n"
     ]
    }
   ],
   "source": [
    "testset = torchvision.datasets.ImageFolder(\"CNN-in-mobile-device/data/raw/TEST\")\n",
    "sizes = [list(n[0].size) for n in testset]\n",
    "np_sizes = np.array(sizes)\n",
    "\n",
    "# Mean of sizes of test dataset\n",
    "mean_sizes_test = np_sizes.sum(0)/len(np_sizes)\n",
    "\n",
    "print('The mean of width = %f , height = %f'% (mean_sizes_test[0],mean_sizes_test[1]))"
   ]
  },
  {
   "cell_type": "code",
   "execution_count": 23,
   "metadata": {
    "id": "pBv1J-Sm-yEK"
   },
   "outputs": [
    {
     "name": "stdout",
     "output_type": "stream",
     "text": [
      "0 [tensor([[[[0.0431, 0.0431, 0.0431,  ..., 0.2667, 0.2667, 0.2667],\n",
      "          [0.0667, 0.0667, 0.0667,  ..., 0.2706, 0.2706, 0.2706],\n",
      "          [0.0902, 0.0902, 0.0902,  ..., 0.2745, 0.2745, 0.2745],\n",
      "          ...,\n",
      "          [0.3843, 0.3843, 0.3843,  ..., 0.3647, 0.3647, 0.3647],\n",
      "          [0.3843, 0.3843, 0.3843,  ..., 0.3608, 0.3608, 0.3608],\n",
      "          [0.3843, 0.3843, 0.3843,  ..., 0.3529, 0.3529, 0.3529]],\n",
      "\n",
      "         [[0.2941, 0.2941, 0.2941,  ..., 0.2588, 0.2588, 0.2588],\n",
      "          [0.2980, 0.2980, 0.2980,  ..., 0.2667, 0.2667, 0.2667],\n",
      "          [0.3020, 0.3020, 0.3020,  ..., 0.2706, 0.2706, 0.2706],\n",
      "          ...,\n",
      "          [0.3373, 0.3373, 0.3373,  ..., 0.3569, 0.3569, 0.3569],\n",
      "          [0.3373, 0.3373, 0.3373,  ..., 0.3569, 0.3569, 0.3569],\n",
      "          [0.3333, 0.3333, 0.3333,  ..., 0.3529, 0.3529, 0.3529]],\n",
      "\n",
      "         [[0.3059, 0.3059, 0.3059,  ..., 0.2627, 0.2627, 0.2627],\n",
      "          [0.3098, 0.3098, 0.3098,  ..., 0.2706, 0.2706, 0.2706],\n",
      "          [0.3098, 0.3098, 0.3098,  ..., 0.2745, 0.2745, 0.2745],\n",
      "          ...,\n",
      "          [0.3412, 0.3412, 0.3412,  ..., 0.3882, 0.3882, 0.3882],\n",
      "          [0.3333, 0.3333, 0.3333,  ..., 0.3843, 0.3843, 0.3843],\n",
      "          [0.3294, 0.3294, 0.3294,  ..., 0.3804, 0.3804, 0.3804]]]]), tensor([0])]\n",
      "1 [tensor([[[[0.0392, 0.0392, 0.0392,  ..., 0.3020, 0.3020, 0.3020],\n",
      "          [0.0392, 0.0392, 0.0392,  ..., 0.3020, 0.3020, 0.3020],\n",
      "          [0.0392, 0.0392, 0.0392,  ..., 0.3020, 0.3020, 0.3020],\n",
      "          ...,\n",
      "          [0.3961, 0.3961, 0.3961,  ..., 0.3922, 0.3922, 0.3922],\n",
      "          [0.3961, 0.3961, 0.3961,  ..., 0.3922, 0.3922, 0.3922],\n",
      "          [0.3961, 0.3961, 0.3961,  ..., 0.3922, 0.3922, 0.3922]],\n",
      "\n",
      "         [[0.2706, 0.2706, 0.2706,  ..., 0.2588, 0.2588, 0.2588],\n",
      "          [0.2706, 0.2706, 0.2706,  ..., 0.2588, 0.2588, 0.2588],\n",
      "          [0.2706, 0.2706, 0.2706,  ..., 0.2588, 0.2588, 0.2588],\n",
      "          ...,\n",
      "          [0.2824, 0.2824, 0.2824,  ..., 0.3961, 0.3961, 0.3961],\n",
      "          [0.2824, 0.2824, 0.2824,  ..., 0.3961, 0.3961, 0.3961],\n",
      "          [0.2824, 0.2824, 0.2824,  ..., 0.3961, 0.3961, 0.3961]],\n",
      "\n",
      "         [[0.2863, 0.2863, 0.2863,  ..., 0.2667, 0.2667, 0.2667],\n",
      "          [0.2863, 0.2863, 0.2863,  ..., 0.2667, 0.2667, 0.2667],\n",
      "          [0.2863, 0.2863, 0.2863,  ..., 0.2667, 0.2667, 0.2667],\n",
      "          ...,\n",
      "          [0.2902, 0.2902, 0.2902,  ..., 0.4078, 0.4078, 0.4078],\n",
      "          [0.2902, 0.2902, 0.2902,  ..., 0.4078, 0.4078, 0.4078],\n",
      "          [0.2902, 0.2902, 0.2902,  ..., 0.4078, 0.4078, 0.4078]]]]), tensor([0])]\n",
      "2 [tensor([[[[0.0392, 0.0392, 0.0392,  ..., 0.2863, 0.2863, 0.2863],\n",
      "          [0.0392, 0.0392, 0.0392,  ..., 0.2863, 0.2863, 0.2863],\n",
      "          [0.0392, 0.0392, 0.0392,  ..., 0.2863, 0.2863, 0.2863],\n",
      "          ...,\n",
      "          [0.3608, 0.3608, 0.3608,  ..., 0.3098, 0.3098, 0.3098],\n",
      "          [0.3608, 0.3608, 0.3608,  ..., 0.3098, 0.3098, 0.3098],\n",
      "          [0.3608, 0.3608, 0.3608,  ..., 0.3098, 0.3098, 0.3098]],\n",
      "\n",
      "         [[0.2824, 0.2824, 0.2824,  ..., 0.2471, 0.2471, 0.2471],\n",
      "          [0.2824, 0.2824, 0.2824,  ..., 0.2471, 0.2471, 0.2471],\n",
      "          [0.2824, 0.2824, 0.2824,  ..., 0.2471, 0.2471, 0.2471],\n",
      "          ...,\n",
      "          [0.2863, 0.2863, 0.2863,  ..., 0.3725, 0.3725, 0.3725],\n",
      "          [0.2863, 0.2863, 0.2863,  ..., 0.3725, 0.3725, 0.3725],\n",
      "          [0.2863, 0.2863, 0.2863,  ..., 0.3725, 0.3725, 0.3725]],\n",
      "\n",
      "         [[0.2824, 0.2824, 0.2824,  ..., 0.2588, 0.2588, 0.2588],\n",
      "          [0.2824, 0.2824, 0.2824,  ..., 0.2588, 0.2588, 0.2588],\n",
      "          [0.2824, 0.2824, 0.2824,  ..., 0.2588, 0.2588, 0.2588],\n",
      "          ...,\n",
      "          [0.3059, 0.3059, 0.3059,  ..., 0.3804, 0.3804, 0.3804],\n",
      "          [0.3059, 0.3059, 0.3059,  ..., 0.3804, 0.3804, 0.3804],\n",
      "          [0.3059, 0.3059, 0.3059,  ..., 0.3804, 0.3804, 0.3804]]]]), tensor([0])]\n",
      "3 [tensor([[[[0.0392, 0.0392, 0.0392,  ..., 0.2824, 0.2824, 0.2824],\n",
      "          [0.0392, 0.0392, 0.0392,  ..., 0.2824, 0.2824, 0.2824],\n",
      "          [0.0392, 0.0392, 0.0392,  ..., 0.2824, 0.2824, 0.2824],\n",
      "          ...,\n",
      "          [0.3451, 0.3451, 0.3451,  ..., 0.2863, 0.2863, 0.2863],\n",
      "          [0.3451, 0.3451, 0.3451,  ..., 0.2863, 0.2863, 0.2863],\n",
      "          [0.3451, 0.3451, 0.3451,  ..., 0.2863, 0.2863, 0.2863]],\n",
      "\n",
      "         [[0.2667, 0.2667, 0.2667,  ..., 0.2471, 0.2471, 0.2471],\n",
      "          [0.2667, 0.2667, 0.2667,  ..., 0.2471, 0.2471, 0.2471],\n",
      "          [0.2667, 0.2667, 0.2667,  ..., 0.2471, 0.2471, 0.2471],\n",
      "          ...,\n",
      "          [0.2980, 0.2980, 0.2980,  ..., 0.3725, 0.3725, 0.3725],\n",
      "          [0.2980, 0.2980, 0.2980,  ..., 0.3725, 0.3725, 0.3725],\n",
      "          [0.2980, 0.2980, 0.2980,  ..., 0.3725, 0.3725, 0.3725]],\n",
      "\n",
      "         [[0.2627, 0.2627, 0.2627,  ..., 0.2784, 0.2784, 0.2784],\n",
      "          [0.2627, 0.2627, 0.2627,  ..., 0.2784, 0.2784, 0.2784],\n",
      "          [0.2627, 0.2627, 0.2627,  ..., 0.2784, 0.2784, 0.2784],\n",
      "          ...,\n",
      "          [0.2941, 0.2941, 0.2941,  ..., 0.3412, 0.3412, 0.3412],\n",
      "          [0.2941, 0.2941, 0.2941,  ..., 0.3412, 0.3412, 0.3412],\n",
      "          [0.2941, 0.2941, 0.2941,  ..., 0.3412, 0.3412, 0.3412]]]]), tensor([0])]\n",
      "4 [tensor([[[[0.1647, 0.1647, 0.1647,  ..., 0.2902, 0.2902, 0.2902],\n",
      "          [0.1922, 0.1922, 0.1922,  ..., 0.2902, 0.2902, 0.2902],\n",
      "          [0.2235, 0.2235, 0.2235,  ..., 0.2902, 0.2902, 0.2902],\n",
      "          ...,\n",
      "          [0.3137, 0.3137, 0.3137,  ..., 0.2706, 0.2706, 0.2706],\n",
      "          [0.3098, 0.3098, 0.3098,  ..., 0.2706, 0.2706, 0.2706],\n",
      "          [0.3098, 0.3098, 0.3098,  ..., 0.2706, 0.2706, 0.2706]],\n",
      "\n",
      "         [[0.2745, 0.2745, 0.2745,  ..., 0.3137, 0.3137, 0.3137],\n",
      "          [0.2706, 0.2706, 0.2706,  ..., 0.3137, 0.3137, 0.3137],\n",
      "          [0.2706, 0.2706, 0.2706,  ..., 0.3137, 0.3137, 0.3137],\n",
      "          ...,\n",
      "          [0.8275, 0.8275, 0.8275,  ..., 0.2941, 0.2941, 0.2941],\n",
      "          [0.8000, 0.8000, 0.8000,  ..., 0.2941, 0.2941, 0.2941],\n",
      "          [0.7686, 0.7686, 0.7686,  ..., 0.2902, 0.2902, 0.2902]],\n",
      "\n",
      "         [[0.2784, 0.2784, 0.2784,  ..., 0.3098, 0.3098, 0.3098],\n",
      "          [0.2745, 0.2745, 0.2745,  ..., 0.3098, 0.3098, 0.3098],\n",
      "          [0.2706, 0.2706, 0.2706,  ..., 0.3098, 0.3098, 0.3098],\n",
      "          ...,\n",
      "          [0.6118, 0.6118, 0.6118,  ..., 0.2902, 0.2902, 0.2902],\n",
      "          [0.6000, 0.6000, 0.6000,  ..., 0.2902, 0.2902, 0.2902],\n",
      "          [0.5843, 0.5843, 0.5843,  ..., 0.2863, 0.2863, 0.2863]]]]), tensor([0])]\n",
      "5 [tensor([[[[0.0392, 0.0392, 0.0392,  ..., 0.3098, 0.3098, 0.3098],\n",
      "          [0.0392, 0.0392, 0.0392,  ..., 0.3098, 0.3098, 0.3098],\n",
      "          [0.0392, 0.0392, 0.0392,  ..., 0.3098, 0.3098, 0.3098],\n",
      "          ...,\n",
      "          [0.2902, 0.2902, 0.2902,  ..., 0.2784, 0.2784, 0.2784],\n",
      "          [0.2902, 0.2902, 0.2902,  ..., 0.2784, 0.2784, 0.2784],\n",
      "          [0.2902, 0.2902, 0.2902,  ..., 0.2784, 0.2784, 0.2784]],\n",
      "\n",
      "         [[0.2627, 0.2627, 0.2627,  ..., 0.3176, 0.3176, 0.3176],\n",
      "          [0.2627, 0.2627, 0.2627,  ..., 0.3176, 0.3176, 0.3176],\n",
      "          [0.2627, 0.2627, 0.2627,  ..., 0.3176, 0.3176, 0.3176],\n",
      "          ...,\n",
      "          [0.6471, 0.6471, 0.6471,  ..., 0.2745, 0.2745, 0.2745],\n",
      "          [0.6471, 0.6471, 0.6471,  ..., 0.2745, 0.2745, 0.2745],\n",
      "          [0.6471, 0.6471, 0.6471,  ..., 0.2745, 0.2745, 0.2745]],\n",
      "\n",
      "         [[0.2667, 0.2667, 0.2667,  ..., 0.3098, 0.3098, 0.3098],\n",
      "          [0.2667, 0.2667, 0.2667,  ..., 0.3098, 0.3098, 0.3098],\n",
      "          [0.2667, 0.2667, 0.2667,  ..., 0.3098, 0.3098, 0.3098],\n",
      "          ...,\n",
      "          [0.5333, 0.5333, 0.5333,  ..., 0.2627, 0.2627, 0.2627],\n",
      "          [0.5333, 0.5333, 0.5333,  ..., 0.2627, 0.2627, 0.2627],\n",
      "          [0.5333, 0.5333, 0.5333,  ..., 0.2627, 0.2627, 0.2627]]]]), tensor([0])]\n",
      "6 [tensor([[[[0.2627, 0.2627, 0.2627,  ..., 0.2627, 0.2627, 0.2627],\n",
      "          [0.2627, 0.2627, 0.2627,  ..., 0.2667, 0.2667, 0.2667],\n",
      "          [0.2667, 0.2667, 0.2667,  ..., 0.2706, 0.2706, 0.2706],\n",
      "          ...,\n",
      "          [0.6314, 0.6314, 0.6314,  ..., 0.2745, 0.2745, 0.2745],\n",
      "          [0.6392, 0.6392, 0.6392,  ..., 0.2745, 0.2745, 0.2745],\n",
      "          [0.6471, 0.6471, 0.6471,  ..., 0.2745, 0.2745, 0.2745]],\n",
      "\n",
      "         [[0.2471, 0.2471, 0.2471,  ..., 0.2627, 0.2627, 0.2627],\n",
      "          [0.2510, 0.2510, 0.2510,  ..., 0.2627, 0.2627, 0.2627],\n",
      "          [0.2510, 0.2510, 0.2510,  ..., 0.2667, 0.2667, 0.2667],\n",
      "          ...,\n",
      "          [0.5686, 0.5686, 0.5686,  ..., 0.2745, 0.2745, 0.2745],\n",
      "          [0.5843, 0.5843, 0.5843,  ..., 0.2745, 0.2745, 0.2745],\n",
      "          [0.5961, 0.5961, 0.5961,  ..., 0.2745, 0.2745, 0.2745]],\n",
      "\n",
      "         [[0.2471, 0.2471, 0.2471,  ..., 0.2471, 0.2471, 0.2471],\n",
      "          [0.2510, 0.2510, 0.2510,  ..., 0.2471, 0.2471, 0.2471],\n",
      "          [0.2510, 0.2510, 0.2510,  ..., 0.2510, 0.2510, 0.2510],\n",
      "          ...,\n",
      "          [0.2706, 0.2706, 0.2706,  ..., 0.2824, 0.2824, 0.2824],\n",
      "          [0.2941, 0.2941, 0.2941,  ..., 0.2784, 0.2784, 0.2784],\n",
      "          [0.3059, 0.3059, 0.3059,  ..., 0.2784, 0.2784, 0.2784]]]]), tensor([0])]\n",
      "7 [tensor([[[[0.0588, 0.0588, 0.0588,  ..., 0.2392, 0.2392, 0.2392],\n",
      "          [0.0902, 0.0902, 0.0902,  ..., 0.2431, 0.2431, 0.2431],\n",
      "          [0.1176, 0.1176, 0.1176,  ..., 0.2431, 0.2431, 0.2431],\n",
      "          ...,\n",
      "          [0.2824, 0.2824, 0.2824,  ..., 0.2941, 0.2941, 0.2941],\n",
      "          [0.2784, 0.2784, 0.2784,  ..., 0.2980, 0.2980, 0.2980],\n",
      "          [0.2784, 0.2784, 0.2784,  ..., 0.3020, 0.3020, 0.3020]],\n",
      "\n",
      "         [[0.2510, 0.2510, 0.2510,  ..., 0.2588, 0.2588, 0.2588],\n",
      "          [0.2510, 0.2510, 0.2510,  ..., 0.2588, 0.2588, 0.2588],\n",
      "          [0.2510, 0.2510, 0.2510,  ..., 0.2627, 0.2627, 0.2627],\n",
      "          ...,\n",
      "          [0.6157, 0.6157, 0.6157,  ..., 0.2471, 0.2471, 0.2471],\n",
      "          [0.5961, 0.5961, 0.5961,  ..., 0.2431, 0.2431, 0.2431],\n",
      "          [0.5804, 0.5804, 0.5804,  ..., 0.2392, 0.2392, 0.2392]],\n",
      "\n",
      "         [[0.2627, 0.2627, 0.2627,  ..., 0.2471, 0.2471, 0.2471],\n",
      "          [0.2627, 0.2627, 0.2627,  ..., 0.2510, 0.2510, 0.2510],\n",
      "          [0.2627, 0.2627, 0.2627,  ..., 0.2549, 0.2549, 0.2549],\n",
      "          ...,\n",
      "          [0.5569, 0.5569, 0.5569,  ..., 0.2471, 0.2471, 0.2471],\n",
      "          [0.5333, 0.5333, 0.5333,  ..., 0.2471, 0.2471, 0.2471],\n",
      "          [0.5137, 0.5137, 0.5137,  ..., 0.2431, 0.2431, 0.2431]]]]), tensor([0])]\n",
      "8 [tensor([[[[0.4314, 0.4314, 0.4314,  ..., 0.2667, 0.2667, 0.2667],\n",
      "          [0.4510, 0.4510, 0.4510,  ..., 0.2706, 0.2706, 0.2706],\n",
      "          [0.4706, 0.4706, 0.4706,  ..., 0.2745, 0.2745, 0.2745],\n",
      "          ...,\n",
      "          [0.7490, 0.7490, 0.7490,  ..., 0.2588, 0.2588, 0.2588],\n",
      "          [0.7451, 0.7451, 0.7451,  ..., 0.2588, 0.2588, 0.2588],\n",
      "          [0.7412, 0.7412, 0.7412,  ..., 0.2588, 0.2588, 0.2588]],\n",
      "\n",
      "         [[0.3647, 0.3647, 0.3647,  ..., 0.2627, 0.2627, 0.2627],\n",
      "          [0.3765, 0.3765, 0.3765,  ..., 0.2667, 0.2667, 0.2667],\n",
      "          [0.3843, 0.3843, 0.3843,  ..., 0.2667, 0.2667, 0.2667],\n",
      "          ...,\n",
      "          [0.6745, 0.6745, 0.6745,  ..., 0.2510, 0.2510, 0.2510],\n",
      "          [0.6863, 0.6863, 0.6863,  ..., 0.2471, 0.2471, 0.2471],\n",
      "          [0.6941, 0.6941, 0.6941,  ..., 0.2471, 0.2471, 0.2471]],\n",
      "\n",
      "         [[0.3765, 0.3765, 0.3765,  ..., 0.2627, 0.2627, 0.2627],\n",
      "          [0.3882, 0.3882, 0.3882,  ..., 0.2667, 0.2667, 0.2667],\n",
      "          [0.4000, 0.4000, 0.4000,  ..., 0.2706, 0.2706, 0.2706],\n",
      "          ...,\n",
      "          [0.2980, 0.2980, 0.2980,  ..., 0.2510, 0.2510, 0.2510],\n",
      "          [0.3059, 0.3059, 0.3059,  ..., 0.2471, 0.2471, 0.2471],\n",
      "          [0.3098, 0.3098, 0.3098,  ..., 0.2471, 0.2471, 0.2471]]]]), tensor([0])]\n",
      "9 [tensor([[[[0.0392, 0.0392, 0.0392,  ..., 0.2824, 0.2824, 0.2824],\n",
      "          [0.0392, 0.0392, 0.0392,  ..., 0.2824, 0.2824, 0.2824],\n",
      "          [0.0392, 0.0392, 0.0392,  ..., 0.2824, 0.2824, 0.2824],\n",
      "          ...,\n",
      "          [0.2863, 0.2863, 0.2863,  ..., 0.2784, 0.2784, 0.2784],\n",
      "          [0.2863, 0.2863, 0.2863,  ..., 0.2784, 0.2784, 0.2784],\n",
      "          [0.2863, 0.2863, 0.2863,  ..., 0.2784, 0.2784, 0.2784]],\n",
      "\n",
      "         [[0.2706, 0.2706, 0.2706,  ..., 0.3333, 0.3333, 0.3333],\n",
      "          [0.2706, 0.2706, 0.2706,  ..., 0.3333, 0.3333, 0.3333],\n",
      "          [0.2706, 0.2706, 0.2706,  ..., 0.3333, 0.3333, 0.3333],\n",
      "          ...,\n",
      "          [0.7529, 0.7529, 0.7529,  ..., 0.2706, 0.2706, 0.2706],\n",
      "          [0.7529, 0.7529, 0.7529,  ..., 0.2706, 0.2706, 0.2706],\n",
      "          [0.7529, 0.7529, 0.7529,  ..., 0.2706, 0.2706, 0.2706]],\n",
      "\n",
      "         [[0.2627, 0.2627, 0.2627,  ..., 0.2941, 0.2941, 0.2941],\n",
      "          [0.2627, 0.2627, 0.2627,  ..., 0.2941, 0.2941, 0.2941],\n",
      "          [0.2627, 0.2627, 0.2627,  ..., 0.2941, 0.2941, 0.2941],\n",
      "          ...,\n",
      "          [0.6118, 0.6118, 0.6118,  ..., 0.2706, 0.2706, 0.2706],\n",
      "          [0.6118, 0.6118, 0.6118,  ..., 0.2706, 0.2706, 0.2706],\n",
      "          [0.6118, 0.6118, 0.6118,  ..., 0.2706, 0.2706, 0.2706]]]]), tensor([0])]\n",
      "10 [tensor([[[[0.0706, 0.0706, 0.0706,  ..., 0.3490, 0.3490, 0.3490],\n",
      "          [0.1020, 0.1020, 0.1020,  ..., 0.3569, 0.3569, 0.3569],\n",
      "          [0.1373, 0.1373, 0.1373,  ..., 0.3608, 0.3608, 0.3608],\n",
      "          ...,\n",
      "          [0.2824, 0.2824, 0.2824,  ..., 0.2706, 0.2706, 0.2706],\n",
      "          [0.2784, 0.2784, 0.2784,  ..., 0.2745, 0.2745, 0.2745],\n",
      "          [0.2784, 0.2784, 0.2784,  ..., 0.2745, 0.2745, 0.2745]],\n",
      "\n",
      "         [[0.5804, 0.5804, 0.5804,  ..., 0.3373, 0.3373, 0.3373],\n",
      "          [0.6000, 0.6000, 0.6000,  ..., 0.3373, 0.3373, 0.3373],\n",
      "          [0.6196, 0.6196, 0.6196,  ..., 0.3412, 0.3412, 0.3412],\n",
      "          ...,\n",
      "          [0.6118, 0.6118, 0.6118,  ..., 0.2784, 0.2784, 0.2784],\n",
      "          [0.6078, 0.6078, 0.6078,  ..., 0.2784, 0.2784, 0.2784],\n",
      "          [0.6039, 0.6039, 0.6039,  ..., 0.2784, 0.2784, 0.2784]],\n",
      "\n",
      "         [[0.4431, 0.4431, 0.4431,  ..., 0.3176, 0.3176, 0.3176],\n",
      "          [0.4549, 0.4549, 0.4549,  ..., 0.3176, 0.3176, 0.3176],\n",
      "          [0.4627, 0.4627, 0.4627,  ..., 0.3176, 0.3176, 0.3176],\n",
      "          ...,\n",
      "          [0.4157, 0.4157, 0.4157,  ..., 0.2745, 0.2745, 0.2745],\n",
      "          [0.4118, 0.4118, 0.4118,  ..., 0.2745, 0.2745, 0.2745],\n",
      "          [0.4118, 0.4118, 0.4118,  ..., 0.2745, 0.2745, 0.2745]]]]), tensor([0])]\n",
      "11 [tensor([[[[0.0431, 0.0431, 0.0431,  ..., 0.3451, 0.3451, 0.3451],\n",
      "          [0.0824, 0.0824, 0.0824,  ..., 0.3569, 0.3569, 0.3569],\n",
      "          [0.1216, 0.1216, 0.1216,  ..., 0.3647, 0.3647, 0.3647],\n",
      "          ...,\n",
      "          [0.3098, 0.3098, 0.3098,  ..., 0.2941, 0.2941, 0.2941],\n",
      "          [0.3098, 0.3098, 0.3098,  ..., 0.2902, 0.2902, 0.2902],\n",
      "          [0.3098, 0.3098, 0.3098,  ..., 0.2902, 0.2902, 0.2902]],\n",
      "\n",
      "         [[0.2431, 0.2431, 0.2431,  ..., 0.3176, 0.3176, 0.3176],\n",
      "          [0.2431, 0.2431, 0.2431,  ..., 0.3255, 0.3255, 0.3255],\n",
      "          [0.2431, 0.2431, 0.2431,  ..., 0.3294, 0.3294, 0.3294],\n",
      "          ...,\n",
      "          [0.4353, 0.4353, 0.4353,  ..., 0.3137, 0.3137, 0.3137],\n",
      "          [0.4000, 0.4000, 0.4000,  ..., 0.3137, 0.3137, 0.3137],\n",
      "          [0.3647, 0.3647, 0.3647,  ..., 0.3137, 0.3137, 0.3137]],\n",
      "\n",
      "         [[0.2471, 0.2471, 0.2471,  ..., 0.3412, 0.3412, 0.3412],\n",
      "          [0.2471, 0.2471, 0.2471,  ..., 0.3412, 0.3412, 0.3412],\n",
      "          [0.2471, 0.2471, 0.2471,  ..., 0.3412, 0.3412, 0.3412],\n",
      "          ...,\n",
      "          [0.4431, 0.4431, 0.4431,  ..., 0.3137, 0.3137, 0.3137],\n",
      "          [0.4000, 0.4000, 0.4000,  ..., 0.3137, 0.3137, 0.3137],\n",
      "          [0.3608, 0.3608, 0.3608,  ..., 0.3137, 0.3137, 0.3137]]]]), tensor([0])]\n"
     ]
    },
    {
     "name": "stderr",
     "output_type": "stream",
     "text": [
      "Cloning into 'CNN-in-mobile-device'...\n",
      "Updating files:   0% (597/61207)\n",
      "Updating files:   1% (613/61207)\n",
      "Updating files:   1% (1183/61207)\n",
      "Updating files:   2% (1225/61207)\n",
      "Updating files:   3% (1837/61207)\n",
      "Updating files:   3% (2007/61207)\n",
      "Updating files:   4% (2449/61207)\n",
      "Updating files:   4% (2641/61207)\n",
      "Updating files:   4% (2675/61207)\n",
      "Updating files:   4% (2677/61207)\n",
      "Updating files:   4% (2681/61207)\n",
      "Updating files:   4% (2684/61207)\n",
      "Updating files:   4% (2688/61207)\n",
      "Updating files:   5% (3061/61207)\n",
      "Updating files:   5% (3087/61207)\n",
      "Updating files:   6% (3673/61207)\n",
      "Updating files:   6% (4155/61207)\n",
      "Updating files:   7% (4285/61207)\n",
      "Updating files:   8% (4897/61207)\n",
      "Updating files:   8% (5114/61207)\n",
      "Updating files:   9% (5509/61207)\n",
      "Updating files:   9% (5588/61207)\n",
      "Updating files:   9% (5838/61207)\n",
      "Updating files:  10% (6121/61207)\n",
      "Updating files:  11% (6733/61207)\n",
      "Updating files:  11% (7022/61207)\n",
      "Updating files:  12% (7345/61207)\n",
      "Updating files:  12% (7942/61207)\n",
      "Updating files:  13% (7957/61207)\n",
      "Updating files:  14% (8569/61207)\n",
      "Updating files:  14% (8737/61207)\n",
      "Updating files:  15% (9182/61207)\n",
      "Updating files:  15% (9202/61207)\n",
      "Updating files:  16% (9794/61207)\n",
      "Updating files:  16% (10081/61207)\n",
      "Updating files:  17% (10406/61207)\n",
      "Updating files:  18% (11018/61207)\n",
      "Updating files:  18% (11118/61207)\n",
      "Updating files:  19% (11630/61207)\n",
      "Updating files:  19% (11902/61207)\n",
      "Updating files:  20% (12242/61207)\n",
      "Updating files:  21% (12854/61207)\n",
      "Updating files:  21% (12904/61207)\n",
      "Updating files:  22% (13466/61207)\n",
      "Updating files:  22% (13831/61207)\n",
      "Updating files:  23% (14078/61207)\n",
      "Updating files:  24% (14690/61207)\n",
      "Updating files:  24% (15046/61207)\n",
      "Updating files:  25% (15302/61207)\n",
      "Updating files:  26% (15914/61207)\n",
      "Updating files:  26% (15934/61207)\n",
      "Updating files:  27% (16526/61207)\n",
      "Updating files:  27% (16694/61207)\n",
      "Updating files:  28% (17138/61207)\n",
      "Updating files:  28% (17510/61207)\n",
      "Updating files:  29% (17751/61207)\n",
      "Updating files:  30% (18363/61207)\n",
      "Updating files:  30% (18543/61207)\n",
      "Updating files:  31% (18975/61207)\n",
      "Updating files:  31% (19348/61207)\n",
      "Updating files:  32% (19587/61207)\n",
      "Updating files:  33% (20199/61207)\n",
      "Updating files:  33% (20370/61207)\n",
      "Updating files:  34% (20811/61207)\n",
      "Updating files:  34% (21278/61207)\n",
      "Updating files:  35% (21423/61207)\n",
      "Updating files:  36% (22035/61207)\n",
      "Updating files:  36% (22275/61207)\n",
      "Updating files:  37% (22647/61207)\n",
      "Updating files:  37% (23181/61207)\n",
      "Updating files:  38% (23259/61207)\n",
      "Updating files:  39% (23871/61207)\n",
      "Updating files:  39% (23991/61207)\n",
      "Updating files:  40% (24483/61207)\n",
      "Updating files:  41% (25095/61207)\n",
      "Updating files:  41% (25346/61207)\n",
      "Updating files:  42% (25707/61207)\n",
      "Updating files:  43% (26320/61207)\n",
      "Updating files:  43% (26820/61207)\n",
      "Updating files:  44% (26932/61207)\n",
      "Updating files:  45% (27544/61207)\n",
      "Updating files:  45% (27838/61207)\n",
      "Updating files:  46% (28156/61207)\n",
      "Updating files:  47% (28768/61207)\n",
      "Updating files:  47% (28776/61207)\n",
      "Updating files:  48% (29380/61207)\n",
      "Updating files:  48% (29798/61207)\n",
      "Updating files:  49% (29992/61207)\n",
      "Updating files:  50% (30604/61207)\n",
      "Updating files:  50% (30997/61207)\n",
      "Updating files:  51% (31216/61207)\n",
      "Updating files:  52% (31828/61207)\n",
      "Updating files:  52% (32330/61207)\n",
      "Updating files:  53% (32440/61207)\n",
      "Updating files:  54% (33052/61207)\n",
      "Updating files:  54% (33631/61207)\n",
      "Updating files:  55% (33664/61207)\n",
      "Updating files:  56% (34276/61207)\n",
      "Updating files:  57% (34888/61207)\n",
      "Updating files:  57% (34976/61207)\n",
      "Updating files:  58% (35501/61207)\n",
      "Updating files:  58% (36012/61207)\n",
      "Updating files:  59% (36113/61207)\n",
      "Updating files:  60% (36725/61207)\n",
      "Updating files:  60% (37161/61207)\n",
      "Updating files:  61% (37337/61207)\n",
      "Updating files:  62% (37949/61207)\n",
      "Updating files:  62% (38084/61207)\n",
      "Updating files:  63% (38561/61207)\n",
      "Updating files:  64% (39173/61207)\n",
      "Updating files:  64% (39704/61207)\n",
      "Updating files:  65% (39785/61207)\n",
      "Updating files:  66% (40397/61207)\n",
      "Updating files:  67% (41009/61207)\n",
      "Updating files:  67% (41036/61207)\n",
      "Updating files:  68% (41621/61207)\n",
      "Updating files:  68% (41945/61207)\n",
      "Updating files:  69% (42233/61207)\n",
      "Updating files:  69% (42836/61207)\n",
      "Updating files:  70% (42845/61207)\n",
      "Updating files:  71% (43457/61207)\n",
      "Updating files:  71% (43976/61207)\n",
      "Updating files:  72% (44070/61207)\n",
      "Updating files:  73% (44682/61207)\n",
      "Updating files:  74% (45294/61207)\n",
      "Updating files:  74% (45339/61207)\n",
      "Updating files:  75% (45906/61207)\n",
      "Updating files:  76% (46518/61207)\n",
      "Updating files:  76% (46731/61207)\n",
      "Updating files:  77% (47130/61207)\n",
      "Updating files:  78% (47742/61207)\n",
      "Updating files:  78% (47897/61207)\n",
      "Updating files:  79% (48354/61207)\n",
      "Updating files:  79% (48773/61207)\n",
      "Updating files:  80% (48966/61207)\n",
      "Updating files:  81% (49578/61207)\n",
      "Updating files:  81% (49756/61207)\n",
      "Updating files:  82% (50190/61207)\n",
      "Updating files:  82% (50698/61207)\n",
      "Updating files:  83% (50802/61207)\n",
      "Updating files:  84% (51414/61207)\n",
      "Updating files:  84% (51626/61207)\n",
      "Updating files:  85% (52026/61207)\n",
      "Updating files:  85% (52564/61207)\n",
      "Updating files:  86% (52639/61207)\n",
      "Updating files:  87% (53251/61207)\n",
      "Updating files:  87% (53716/61207)\n",
      "Updating files:  88% (53863/61207)\n",
      "Updating files:  89% (54475/61207)\n",
      "Updating files:  90% (55087/61207)\n",
      "Updating files:  90% (55174/61207)\n",
      "Updating files:  91% (55699/61207)\n",
      "Updating files:  91% (56202/61207)\n",
      "Updating files:  92% (56311/61207)\n",
      "Updating files:  93% (56923/61207)\n",
      "Updating files:  93% (57092/61207)\n",
      "Updating files:  94% (57535/61207)\n",
      "Updating files:  94% (58088/61207)\n",
      "Updating files:  95% (58147/61207)\n",
      "Updating files:  96% (58759/61207)\n",
      "Updating files:  96% (58946/61207)\n",
      "Updating files:  97% (59371/61207)\n",
      "Updating files:  97% (59781/61207)\n",
      "Updating files:  98% (59983/61207)\n",
      "Updating files:  99% (60595/61207)\n",
      "Updating files:  99% (60900/61207)\n",
      "Updating files:  99% (61191/61207)\n",
      "Updating files: 100% (61207/61207)\n",
      "Updating files: 100% (61207/61207), done.\n"
     ]
    }
   ],
   "source": [
    "### PREPROCESS IN PYTORCH\n",
    "trainloader = torch.utils.data.DataLoader(trainset_t)\n",
    "#train_loader = torch.utils.data.DataLoader(trainset, batch_size=64, shuffle=True, drop_last=False)\n",
    "len(trainset_t)/4\n",
    "\n",
    "#trainset_t_1 = trainset_t[:10]\n",
    "#trainset_t[:1001]\n",
    "\n",
    "nsamples = 10\n",
    "for i, image in enumerate(trainloader):\n",
    "    \n",
    "    if i > nsamples:\n",
    "        break"
   ]
  },
  {
   "cell_type": "code",
   "execution_count": 20,
   "metadata": {
    "colab": {
     "base_uri": "https://localhost:8080/"
    },
    "id": "GXvLbrOof7-H",
    "outputId": "4c3c9b87-65b7-49f6-eb3e-02e54f7d44bd"
   },
   "outputs": [
    {
     "name": "stdout",
     "output_type": "stream",
     "text": [
      "<class 'torch.Tensor'>\n"
     ]
    },
    {
     "ename": "ValueError",
     "evalue": "too many values to unpack (expected 2)",
     "output_type": "error",
     "traceback": [
      "\u001b[1;31m---------------------------------------------------------------------------\u001b[0m",
      "\u001b[1;31mValueError\u001b[0m                                Traceback (most recent call last)",
      "\u001b[1;32m<ipython-input-20-a9be3109e4b5>\u001b[0m in \u001b[0;36m<module>\u001b[1;34m\u001b[0m\n\u001b[0;32m     15\u001b[0m \u001b[1;31m#                          transform=transforms.ToTensor())\u001b[0m\u001b[1;33m\u001b[0m\u001b[1;33m\u001b[0m\u001b[1;33m\u001b[0m\u001b[0m\n\u001b[0;32m     16\u001b[0m \u001b[1;33m\u001b[0m\u001b[0m\n\u001b[1;32m---> 17\u001b[1;33m \u001b[0mimgs\u001b[0m \u001b[1;33m=\u001b[0m \u001b[0mtorch\u001b[0m\u001b[1;33m.\u001b[0m\u001b[0mstack\u001b[0m\u001b[1;33m(\u001b[0m\u001b[1;33m[\u001b[0m\u001b[0mimg_t\u001b[0m \u001b[1;32mfor\u001b[0m \u001b[0mimg_t\u001b[0m\u001b[1;33m,\u001b[0m \u001b[0m_\u001b[0m \u001b[1;32min\u001b[0m \u001b[0mtrainset_t\u001b[0m\u001b[1;33m[\u001b[0m\u001b[1;33m:\u001b[0m\u001b[1;36m1001\u001b[0m\u001b[1;33m]\u001b[0m\u001b[1;33m]\u001b[0m\u001b[1;33m,\u001b[0m \u001b[0mdim\u001b[0m\u001b[1;33m=\u001b[0m\u001b[1;36m3\u001b[0m\u001b[1;33m)\u001b[0m\u001b[1;33m\u001b[0m\u001b[1;33m\u001b[0m\u001b[0m\n\u001b[0m\u001b[0;32m     18\u001b[0m \u001b[0mprint\u001b[0m\u001b[1;33m(\u001b[0m\u001b[0mimgs\u001b[0m\u001b[1;33m.\u001b[0m\u001b[0mshape\u001b[0m\u001b[1;33m)\u001b[0m\u001b[1;33m\u001b[0m\u001b[1;33m\u001b[0m\u001b[0m\n",
      "\u001b[1;32m~\\anaconda3\\lib\\site-packages\\torchvision\\datasets\\folder.py\u001b[0m in \u001b[0;36m__getitem__\u001b[1;34m(self, index)\u001b[0m\n\u001b[0;32m    175\u001b[0m             \u001b[0mtuple\u001b[0m\u001b[1;33m:\u001b[0m \u001b[1;33m(\u001b[0m\u001b[0msample\u001b[0m\u001b[1;33m,\u001b[0m \u001b[0mtarget\u001b[0m\u001b[1;33m)\u001b[0m \u001b[0mwhere\u001b[0m \u001b[0mtarget\u001b[0m \u001b[1;32mis\u001b[0m \u001b[0mclass_index\u001b[0m \u001b[0mof\u001b[0m \u001b[0mthe\u001b[0m \u001b[0mtarget\u001b[0m \u001b[1;32mclass\u001b[0m\u001b[1;33m.\u001b[0m\u001b[1;33m\u001b[0m\u001b[1;33m\u001b[0m\u001b[0m\n\u001b[0;32m    176\u001b[0m         \"\"\"\n\u001b[1;32m--> 177\u001b[1;33m         \u001b[0mpath\u001b[0m\u001b[1;33m,\u001b[0m \u001b[0mtarget\u001b[0m \u001b[1;33m=\u001b[0m \u001b[0mself\u001b[0m\u001b[1;33m.\u001b[0m\u001b[0msamples\u001b[0m\u001b[1;33m[\u001b[0m\u001b[0mindex\u001b[0m\u001b[1;33m]\u001b[0m\u001b[1;33m\u001b[0m\u001b[1;33m\u001b[0m\u001b[0m\n\u001b[0m\u001b[0;32m    178\u001b[0m         \u001b[0msample\u001b[0m \u001b[1;33m=\u001b[0m \u001b[0mself\u001b[0m\u001b[1;33m.\u001b[0m\u001b[0mloader\u001b[0m\u001b[1;33m(\u001b[0m\u001b[0mpath\u001b[0m\u001b[1;33m)\u001b[0m\u001b[1;33m\u001b[0m\u001b[1;33m\u001b[0m\u001b[0m\n\u001b[0;32m    179\u001b[0m         \u001b[1;32mif\u001b[0m \u001b[0mself\u001b[0m\u001b[1;33m.\u001b[0m\u001b[0mtransform\u001b[0m \u001b[1;32mis\u001b[0m \u001b[1;32mnot\u001b[0m \u001b[1;32mNone\u001b[0m\u001b[1;33m:\u001b[0m\u001b[1;33m\u001b[0m\u001b[1;33m\u001b[0m\u001b[0m\n",
      "\u001b[1;31mValueError\u001b[0m: too many values to unpack (expected 2)"
     ]
    }
   ],
   "source": [
    "### Obtaining mean and std # 11:27\n",
    "from torchvision import transforms\n",
    "\n",
    "to_tensor = transforms.ToTensor()\n",
    "#img_t = to_tensor(img)\n",
    "#print(img_t.shape)\n",
    "\n",
    "img_t, _ = trainset_t[99]\n",
    "print(type(img_t))\n",
    "\n",
    "#dataset to tensor\n",
    "\n",
    "#trainset_t = torchvision.datasets.ImageFolder(\"CNN-in-mobile-device/data/raw/TRAIN\",transform=preprocess_no_normalize)\n",
    "#trainset_t = datasets.CIFAR10(data_path, train=True, download=False,\n",
    "#                          transform=transforms.ToTensor())\n",
    "\n",
    "imgs = torch.stack([img_t for img_t, _ in trainset_t, dim=3)\n",
    "print(imgs.shape)"
   ]
  },
  {
   "cell_type": "code",
   "execution_count": null,
   "metadata": {
    "id": "VSlbhNGOfqhZ"
   },
   "outputs": [],
   "source": [
    "# getting means\n",
    "imgs.view(3, -1).mean(dim=1)  \n",
    "# getting std\n",
    "imgs.view(3, -1).std(dim=1)"
   ]
  },
  {
   "cell_type": "code",
   "execution_count": null,
   "metadata": {},
   "outputs": [],
   "source": []
  },
  {
   "cell_type": "code",
   "execution_count": null,
   "metadata": {
    "id": "CVEy42pAgOxq"
   },
   "outputs": [],
   "source": [
    "### Dataset and Dataloader training set\n",
    "\n",
    "\n",
    "#trainset = torchvision.datasets.ImageFolder(\"GTSRB/Training\", transform = preprocess)\n",
    "trainset = torchvision.datasets.ImageFolder(\"CNN-in-mobile-device/data/raw/TRAIN\", transform = preprocess)\n",
    "\n",
    "train_loader = torch.utils.data.DataLoader(trainset, batch_size=64, shuffle=True, drop_last=False)"
   ]
  },
  {
   "cell_type": "code",
   "execution_count": null,
   "metadata": {
    "id": "FBgwP0VahPOo"
   },
   "outputs": [],
   "source": [
    "### Dataset and Dataloader validation set\n",
    "testset = torchvision.datasets.ImageFolder(\"CNN-in-mobile-device/data/raw/TEST\", transform = preprocess)\n",
    "test_loader = torch.utils.data.DataLoader(testset, batch_size=64, shuffle=True, drop_last=True)"
   ]
  },
  {
   "cell_type": "code",
   "execution_count": null,
   "metadata": {
    "id": "OfF-tSjmhaWn"
   },
   "outputs": [],
   "source": [
    "for X, y in test_loader:\n",
    "    print(\"Shape of X [N, C, H, W]: \", X.shape)\n",
    "    print(\"Shape of y: \", y.shape, y.dtype)\n",
    "    break"
   ]
  },
  {
   "cell_type": "markdown",
   "metadata": {
    "id": "OmZTXjenW5sF"
   },
   "source": [
    "## Processing data"
   ]
  },
  {
   "cell_type": "markdown",
   "metadata": {
    "id": "RcAV5sxihf9U"
   },
   "source": [
    "### Define model"
   ]
  },
  {
   "cell_type": "code",
   "execution_count": null,
   "metadata": {
    "id": "K_xDzugGhl4W"
   },
   "outputs": [],
   "source": [
    "# Get cpu or gpu device for training.\n",
    "device = \"cuda\" if torch.cuda.is_available() else \"cpu\"\n",
    "print(\"Using {} device\".format(device))\n",
    "\n",
    "# Define model\n",
    "class NeuralNetwork(nn.Module):\n",
    "    def __init__(self):\n",
    "        super(NeuralNetwork, self).__init__()\n",
    "        self.flatten = nn.Flatten()\n",
    "        self.linear_relu_stack = nn.Sequential(\n",
    "            nn.Linear(size*size*3, 512),\n",
    "            nn.ReLU(),\n",
    "            nn.Linear(512, 512),\n",
    "            nn.ReLU(),\n",
    "            nn.Linear(512, 43),\n",
    "            nn.ReLU()\n",
    "        )\n",
    "\n",
    "    def forward(self, x):\n",
    "        x = self.flatten(x)\n",
    "        logits = self.linear_relu_stack(x)\n",
    "        return logits\n",
    "\n",
    "model = NeuralNetwork().to(device)\n",
    "print(model)"
   ]
  },
  {
   "cell_type": "markdown",
   "metadata": {
    "id": "Z7qD_LDLeL2t"
   },
   "source": [
    "### Training"
   ]
  },
  {
   "cell_type": "code",
   "execution_count": null,
   "metadata": {
    "id": "3mHmrTUShrAt"
   },
   "outputs": [],
   "source": [
    "## To train a model, we need a loss function and an optimizer.\n",
    "loss_fn = nn.CrossEntropyLoss()\n",
    "optimizer = torch.optim.SGD(model.parameters(), lr=1e-3)"
   ]
  },
  {
   "cell_type": "code",
   "execution_count": null,
   "metadata": {
    "id": "mtX5yW4Uhviq"
   },
   "outputs": [],
   "source": [
    "#In a single training loop, the model makes predictions on the training dataset \n",
    "#(fed to it in batches), and backpropagates the prediction\n",
    "# error to adjust the model’s parameters.\n",
    "\n",
    "def train(dataloader, model, loss_fn, optimizer):\n",
    "    size = len(dataloader.dataset)\n",
    "    for batch, (X, y) in enumerate(dataloader):\n",
    "        X, y = X.to(device), y.to(device)\n",
    "\n",
    "        # Compute prediction error\n",
    "        pred = model(X)\n",
    "        loss = loss_fn(pred, y)\n",
    "\n",
    "        # Backpropagation\n",
    "        optimizer.zero_grad()\n",
    "        loss.backward()\n",
    "        optimizer.step()\n",
    "\n",
    "        if batch % 100 == 0:\n",
    "            loss, current = loss.item(), batch * len(X)\n",
    "            print(f\"loss: {loss:>7f}  [{current:>5d}/{size:>5d}]\")"
   ]
  },
  {
   "cell_type": "code",
   "execution_count": null,
   "metadata": {
    "id": "p3X3OiEmh32A"
   },
   "outputs": [],
   "source": [
    "# We also check the model’s performance against the test dataset to ensure it is learning.\n",
    "def test(dataloader, model):\n",
    "    size = len(dataloader.dataset)\n",
    "    model.eval()\n",
    "    test_loss, correct = 0, 0\n",
    "    with torch.no_grad():\n",
    "        for X, y in dataloader:\n",
    "            X, y = X.to(device), y.to(device)\n",
    "            pred = model(X)\n",
    "            test_loss += loss_fn(pred, y).item()\n",
    "            correct += (pred.argmax(1) == y).type(torch.float).sum().item()\n",
    "    test_loss /= size\n",
    "    correct /= size\n",
    "    print(f\"Test Error: \\n Accuracy: {(100*correct):>0.1f}%, Avg loss: {test_loss:>8f} \\n\")"
   ]
  },
  {
   "cell_type": "code",
   "execution_count": null,
   "metadata": {
    "id": "U1UqgSsHh59A"
   },
   "outputs": [],
   "source": [
    "### Training loop\n",
    "epochs = 3\n",
    "for t in range(epochs):\n",
    "    print(f\"Epoch {t+1}\\n-------------------------------\")\n",
    "    train(train_loader, model, loss_fn, optimizer)\n",
    "    test(test_loader, model)\n",
    "print(\"Done!\")"
   ]
  },
  {
   "cell_type": "code",
   "execution_count": null,
   "metadata": {
    "id": "qsTpStteh_PJ"
   },
   "outputs": [],
   "source": [
    "### Saving model\n",
    "# Saving model\n",
    "torch.save(model.state_dict(), \"model.pth\")\n",
    "print(\"Saved PyTorch Model State to model.pth\")\n",
    "\n",
    "'''\n",
    "Load model:\n",
    "model = NeuralNetwork()\n",
    "model.load_state_dict(torch.load(\"model.pth\"))\n",
    "'''"
   ]
  },
  {
   "cell_type": "markdown",
   "metadata": {
    "id": "uXK46mCUW5OG"
   },
   "source": [
    "### Validation"
   ]
  },
  {
   "cell_type": "code",
   "execution_count": null,
   "metadata": {
    "id": "B5PjssXdZ37F"
   },
   "outputs": [],
   "source": []
  },
  {
   "cell_type": "code",
   "execution_count": null,
   "metadata": {
    "id": "W_p6VyAwWktY"
   },
   "outputs": [],
   "source": []
  },
  {
   "cell_type": "markdown",
   "metadata": {
    "id": "swacZZyOiRSf"
   },
   "source": [
    "## Making predictions"
   ]
  },
  {
   "cell_type": "markdown",
   "metadata": {
    "id": "1O-1n4WtXIWG"
   },
   "source": [
    "## References\n",
    "1. Book: Deep Learning With PyTorch"
   ]
  },
  {
   "cell_type": "code",
   "execution_count": null,
   "metadata": {
    "id": "p0uiSHpUaNY1"
   },
   "outputs": [],
   "source": []
  }
 ],
 "metadata": {
  "colab": {
   "collapsed_sections": [
    "ga0itVA4j5s8",
    "OmZTXjenW5sF",
    "Z7qD_LDLeL2t",
    "uXK46mCUW5OG",
    "1O-1n4WtXIWG"
   ],
   "name": "Building_CNN",
   "provenance": []
  },
  "kernelspec": {
   "display_name": "Python 3",
   "language": "python",
   "name": "python3"
  },
  "language_info": {
   "codemirror_mode": {
    "name": "ipython",
    "version": 3
   },
   "file_extension": ".py",
   "mimetype": "text/x-python",
   "name": "python",
   "nbconvert_exporter": "python",
   "pygments_lexer": "ipython3",
   "version": "3.8.3"
  }
 },
 "nbformat": 4,
 "nbformat_minor": 1
}
